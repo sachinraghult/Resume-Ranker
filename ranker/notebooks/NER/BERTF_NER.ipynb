{
  "nbformat": 4,
  "nbformat_minor": 0,
  "metadata": {
    "colab": {
      "name": "BERTF_NER.ipynb",
      "provenance": [],
      "collapsed_sections": []
    },
    "kernelspec": {
      "name": "python3",
      "display_name": "Python 3"
    },
    "language_info": {
      "name": "python"
    },
    "accelerator": "GPU",
    "gpuClass": "standard"
  },
  "cells": [
    {
      "cell_type": "code",
      "source": [
        "from google.colab import drive\n",
        "drive.mount('/content/gdrive')"
      ],
      "metadata": {
        "id": "fwbLWf4aQ7xE",
        "colab": {
          "base_uri": "https://localhost:8080/"
        },
        "outputId": "d72a92a1-c36c-4e12-f64d-1e9be31b71b7"
      },
      "execution_count": null,
      "outputs": [
        {
          "output_type": "stream",
          "name": "stdout",
          "text": [
            "Drive already mounted at /content/gdrive; to attempt to forcibly remount, call drive.mount(\"/content/gdrive\", force_remount=True).\n"
          ]
        }
      ]
    },
    {
      "cell_type": "code",
      "execution_count": null,
      "metadata": {
        "id": "TQoRVaVCM5um"
      },
      "outputs": [],
      "source": [
        "%%capture\n",
        "pip install transformers"
      ]
    },
    {
      "cell_type": "code",
      "source": [
        "import os\n",
        "import re\n",
        "import torch \n",
        "import torch.nn as nn\n",
        "import torch.nn.functional as F\n",
        "import json\n",
        "import numpy as np\n",
        "import pandas as pd\n",
        "from tqdm import tqdm\n",
        "from torch.optim import Adam\n",
        "from tokenizers.implementations import ByteLevelBPETokenizer\n",
        "from tokenizers.processors import BertProcessing\n",
        "from transformers import BertTokenizerFast, BertForTokenClassification, BertTokenizer, BertConfig, GPT2Tokenizer, GPT2TokenizerFast\n",
        "from torch.optim.lr_scheduler import StepLR\n",
        "from torch.optim.lr_scheduler import ReduceLROnPlateau\n",
        "from torch.utils.data import Dataset, DataLoader"
      ],
      "metadata": {
        "id": "6dbBI23XQ44D"
      },
      "execution_count": null,
      "outputs": []
    },
    {
      "cell_type": "code",
      "source": [
        "ROOT_DIR = \"/content/gdrive/MyDrive/ResumeRanker\""
      ],
      "metadata": {
        "id": "38wYsRHh4f_9"
      },
      "execution_count": null,
      "outputs": []
    },
    {
      "cell_type": "code",
      "source": [
        "def extract_data_from_json(filepath):\n",
        "    text_dataset = []\n",
        "    dataset = []\n",
        "    with open(filepath, 'r') as f:\n",
        "        lines = f.readlines()\n",
        "\n",
        "    for line in tqdm(lines,desc='Extracting Data    '):\n",
        "        data = json.loads(line)\n",
        "        text = data['content'].replace(\"\\n\", \" \")\n",
        "        data_annotations = data['annotation']\n",
        "        entities = []\n",
        "        if data_annotations is not None:\n",
        "            for annotation in data_annotations:\n",
        "                point = annotation['points'][0]\n",
        "                labels = annotation['label']\n",
        "                if isinstance(labels, list):\n",
        "                    if not labels:\n",
        "                        continue\n",
        "                    label = labels[0]\n",
        "                else:\n",
        "                    label = labels\n",
        "\n",
        "                point_start = point['start']\n",
        "                point_end = point['end']\n",
        "                point_text = point['text']\n",
        "                \n",
        "                lspace = len(point_text) - len(point_text.lstrip())\n",
        "                rspace = len(point_text) - len(point_text.rstrip())\n",
        "                if lspace != 0:\n",
        "                    point_start = point_start + lspace\n",
        "                if rspace != 0:\n",
        "                    point_end = point_end - rspace\n",
        "                entities.append((point_start, point_end + 1 , label))\n",
        "        dataset.append((text, {\"entities\" : entities}))\n",
        "        text_dataset.append(text)\n",
        "\n",
        "    invalid_span_tokens = re.compile(r'\\s')\n",
        "\n",
        "    cleaned_data = []\n",
        "    for text, annotations in tqdm(dataset,desc='Processing Entities'):\n",
        "        entities = annotations['entities']\n",
        "        valid_entities = []\n",
        "        for start, end, label in entities:\n",
        "            valid_start = start\n",
        "            valid_end = end\n",
        "            while valid_start < len(text) and invalid_span_tokens.match(\n",
        "                    text[valid_start]):\n",
        "                valid_start += 1\n",
        "            while valid_end > 1 and invalid_span_tokens.match(\n",
        "                    text[valid_end - 1]):\n",
        "                valid_end -= 1\n",
        "            valid_entities.append([valid_start, valid_end, label])\n",
        "        cleaned_data.append((text, {'entities': valid_entities}))\n",
        "\n",
        "    labels = []\n",
        "    s = 0\n",
        "    for i in tqdm(range(len(cleaned_data)),desc='Creating Labels    '):\n",
        "        start = 0\n",
        "        emptyList = [\"Empty\"] * len(cleaned_data[i][0].split())\n",
        "        numberOfWords = 0\n",
        "        lenOfString = len(cleaned_data[i][0])\n",
        "        strData = cleaned_data[i][0]\n",
        "        strDictData = cleaned_data[i][1]\n",
        "        lastIndexOfSpace = strData.rfind(' ')\n",
        "        for i in range(lenOfString):\n",
        "            if (strData[i]==\" \" and strData[i+1]!=\" \"):\n",
        "                for k,v in strDictData.items():\n",
        "                    for j in range(len(v)):\n",
        "                        entList = v[len(v)-j-1]\n",
        "                        if (start>=int(entList[0]) and i<=int(entList[1])):\n",
        "                            emptyList[numberOfWords] = entList[2]\n",
        "                            break\n",
        "                        else:\n",
        "                            continue\n",
        "                start = i + 1  \n",
        "                numberOfWords += 1\n",
        "            if (i == lastIndexOfSpace):\n",
        "                for j in range(len(v)):\n",
        "                        entList = v[len(v)-j-1]\n",
        "                        if (lastIndexOfSpace>=int(entList[0]) and lenOfString<=int(entList[1])):\n",
        "                            emptyList[numberOfWords] = entList[2]\n",
        "                            numberOfWords += 1\n",
        "        labels.append(emptyList)\n",
        "        s = s + numberOfWords\n",
        "    return text_dataset, labels"
      ],
      "metadata": {
        "id": "Hj1g-Zk2Ri_e"
      },
      "execution_count": null,
      "outputs": []
    },
    {
      "cell_type": "code",
      "source": [
        "json_file_path = \"/content/gdrive/MyDrive/ResumeRanker/Dataset/Entity Recognition in Resumes.json\"\n",
        "text, labels = extract_data_from_json(json_file_path)"
      ],
      "metadata": {
        "id": "F7qc2l4hRjDE",
        "colab": {
          "base_uri": "https://localhost:8080/"
        },
        "outputId": "11b73ee1-247d-4d64-abfa-aea5dd4cc5fa"
      },
      "execution_count": null,
      "outputs": [
        {
          "output_type": "stream",
          "name": "stderr",
          "text": [
            "Extracting Data    : 100%|██████████| 220/220 [00:00<00:00, 10800.07it/s]\n",
            "Processing Entities: 100%|██████████| 220/220 [00:00<00:00, 59033.13it/s]\n",
            "Creating Labels    : 100%|██████████| 220/220 [00:00<00:00, 235.83it/s]\n"
          ]
        }
      ]
    },
    {
      "cell_type": "code",
      "source": [
        "tags_id = {\"Name\":0,\"College Name\":1,\"Degree\":2,\"Graduation Year\":3,\"Years of Experience\":4,\"Companies worked at\":5,\"Designation\":6,\"Skills\":7,\"Location\":8,\"Email Address\":9,\"UNKNOWN\":10,\"Empty\":11}"
      ],
      "metadata": {
        "id": "F0ikKysnS58b"
      },
      "execution_count": null,
      "outputs": []
    },
    {
      "cell_type": "code",
      "source": [
        "total_labels = []\n",
        "for i in labels:\n",
        "  total_labels.extend(i)\n",
        "\n",
        "from collections import Counter\n",
        "dist = Counter(total_labels)\n",
        "weights = [1/dist[i] for i in tags_id]\n",
        "sum_ = sum(weights)\n",
        "weights = [i/sum_ for i in weights]\n",
        "print(weights)\n",
        "print(sum(weights))"
      ],
      "metadata": {
        "id": "f48JV6qoBl5X",
        "colab": {
          "base_uri": "https://localhost:8080/"
        },
        "outputId": "4510337c-b862-41a5-ab3c-35d4168f71ac"
      },
      "execution_count": null,
      "outputs": [
        {
          "output_type": "stream",
          "name": "stdout",
          "text": [
            "[0.008464584949229933, 0.0038598507368488495, 0.004701401628317722, 0.05760971249028134, 0.050787509695379596, 0.004396185349486161, 0.0037730701239969203, 0.0005190762152835999, 0.042415942163174174, 0.051464676491318, 0.77197014736977, 3.784278691381952e-05]\n",
            "1.0000000000000002\n"
          ]
        }
      ]
    },
    {
      "cell_type": "code",
      "source": [
        "class NERconfig:\n",
        "    def __init__(self, maxlen, batch_size, rootdir, tag_id, pretrained = True, use_scheduler = False):\n",
        "        self.maxlen = maxlen\n",
        "        self.batch_size = batch_size\n",
        "        self.rootdir = rootdir\n",
        "        self.tag_id = tag_id\n",
        "        self.id_tag = dict((v,k) for k,v in self.tag_id.items())\n",
        "        self.pretrained = pretrained\n",
        "        self.use_scheduler = use_scheduler\n",
        "        self.device = \"cuda\" if torch.cuda.is_available() else \"cpu\""
      ],
      "metadata": {
        "id": "bAyrAbCapjMH"
      },
      "execution_count": null,
      "outputs": []
    },
    {
      "cell_type": "code",
      "source": [
        "class NER_Dataset(Dataset):\n",
        "    def __init__(self, text_data, entity_labels, config,  tokenizer):\n",
        "        self.text_data = text_data\n",
        "        self.entity_labels = entity_labels\n",
        "        self.tokenizer = tokenizer\n",
        "        self.config = config\n",
        "        self.text = [self.tokenizer(i, add_special_tokens=False, return_tensors=\"pt\") for i in self.text_data]\n",
        "        self.labels = [self.align_label(i,j) for i,j in zip(self.text_data, self.entity_labels)]\n",
        "        self.X = []\n",
        "        self.Y = []\n",
        "        self.restructure_data()\n",
        "    \n",
        "    def __len__(self):\n",
        "        return len(self.text_data)\n",
        "\n",
        "    def __getitem__(self, idx):\n",
        "        x = self.X[idx]\n",
        "        y = self.Y[idx]\n",
        "        return x, y\n",
        "\n",
        "    def restructure_data(self):\n",
        "        for i in range(len(self.text)):\n",
        "            input_id_chunks = self.text[i]['input_ids'][0].split(self.config.maxlen-2)\n",
        "            mask_chunks = self.text[i]['attention_mask'][0].split(self.config.maxlen-2)\n",
        "            label_chunks = torch.Tensor(self.labels[i]).split(self.config.maxlen-2)\n",
        "            for j in range(len(input_id_chunks)):\n",
        "                inp_chunk = torch.cat([torch.Tensor([101]),input_id_chunks[j],torch.Tensor([102])])\n",
        "                msk_chunk = torch.cat([torch.Tensor([1]), mask_chunks[j], torch.Tensor([1])])\n",
        "                lab_chunk = torch.cat([torch.Tensor([self.config.tag_id[\"Empty\"]]), label_chunks[j], torch.Tensor([self.config.tag_id[\"Empty\"]])])\n",
        "                pad_len = self.config.maxlen - inp_chunk.shape[0]\n",
        "                if pad_len > 0:\n",
        "                    inp_chunk = torch.cat([inp_chunk, torch.Tensor([0] * pad_len)])\n",
        "                    msk_chunk = torch.cat([msk_chunk, torch.Tensor([0] * pad_len)])\n",
        "                    lab_chunk = torch.cat([lab_chunk, torch.Tensor([self.config.tag_id[\"Empty\"]] * pad_len)])\n",
        "                input_dict = {\n",
        "                              'input_ids': inp_chunk.long(),\n",
        "                              'attention_mask': msk_chunk.int()\n",
        "                              }\n",
        "                self.X.append(input_dict)\n",
        "                self.Y.append(lab_chunk.long())\n",
        "\n",
        "\n",
        "    def align_label(self, texts, labels):\n",
        "        split_tokens = texts.split()\n",
        "        comp_idx = 0\n",
        "        extension = 0\n",
        "        tokenized_inputs = self.tokenizer(texts,add_special_tokens=False)\n",
        "        word_ids = tokenized_inputs.word_ids()\n",
        "        label_ids = []\n",
        "        i = 0\n",
        "        while i < len(word_ids):\n",
        "            word = self.tokenizer.decode(tokenized_inputs.input_ids[i-extension:i+1])\n",
        "            if (word == split_tokens[comp_idx]) or (\"\".join(word.split()) == split_tokens[comp_idx]):\n",
        "                label_ids.extend([self.config.tag_id[labels[comp_idx]]]*(extension+1))\n",
        "                comp_idx += 1\n",
        "                extension = 0\n",
        "            elif word == '[UNK]':\n",
        "                label_ids.extend([self.config.tag_id[labels[comp_idx]]]*(extension+1))\n",
        "                comp_idx += 1\n",
        "                extension = 0\n",
        "            else:\n",
        "                extension += 1\n",
        "            i += 1\n",
        "        return label_ids"
      ],
      "metadata": {
        "id": "DjCDlthG-Nmr"
      },
      "execution_count": null,
      "outputs": []
    },
    {
      "cell_type": "code",
      "source": [
        "class Trainer:\n",
        "    def __init__(self, model, config, optimizer, tokenizer, loss_func, train_dataset, test_dataset,\n",
        "                 val_dataset = None):\n",
        "\n",
        "        self.model = model\n",
        "        self.optimizer = optimizer\n",
        "        self.config = config\n",
        "        self.tokenizer = tokenizer\n",
        "        self.train_dataset = train_dataset\n",
        "        self.val_dataset = val_dataset\n",
        "        self.test_dataset = test_dataset\n",
        "        self.train_dataloader = DataLoader(self.train_dataset, batch_size = self.config.batch_size, shuffle = True)\n",
        "        self.valid_dataloader = DataLoader(self.val_dataset, batch_size = self.config.batch_size, shuffle = True)\n",
        "        self.test_dataloader = DataLoader(self.test_dataset, batch_size = self.config.batch_size, shuffle = True)\n",
        "        self.device = self.config.device\n",
        "        self.criterion = loss_func.to(self.device)\n",
        "        self.best_loss = float('inf')\n",
        "        self.load_pretrained = self.config.pretrained\n",
        "        self.use_scheduler = self.config.use_scheduler \n",
        "        if self.use_scheduler:\n",
        "            self.scheduler = ReduceLROnPlateau(self.optimizer, mode='min', factor=0.1, patience=3, verbose=True)\n",
        "\n",
        "        if os.path.exists(os.path.join(self.config.rootdir,\"Models\",\"BERT_NER\",\"BERTF_NER.pth\")) and self.load_pretrained:\n",
        "            print(\"Pretrained Weights found. Loading Pretrained weights...\")\n",
        "            self.load_weights(os.path.join(self.config.rootdir,\"Models\",\"BERT_NER\",\"BERTF_NER.pth\"))\n",
        "        self.model.to(self.device)\n",
        "\n",
        "    def compute_loss(self, logits, labels, attention_mask=None):\n",
        "        # Only keep active parts of the loss\n",
        "        if attention_mask is not None:\n",
        "            active_loss = attention_mask.view(-1) == 1\n",
        "            active_logits = logits.view(-1, len(config.tag_id))\n",
        "            active_labels = torch.where(\n",
        "                active_loss, labels.view(-1), torch.tensor(-100).type_as(labels)\n",
        "            )\n",
        "            loss = self.criterion(active_logits, active_labels)\n",
        "        else:\n",
        "            loss = self.criterion(logits.view(-1, self.num_labels), labels.view(-1))\n",
        "        return loss*1000\n",
        "\n",
        "\n",
        "    def train_one_epoch(self):\n",
        "        train_loss = 0\n",
        "        train_acc = 0\n",
        "        loader1 = enumerate(tqdm(self.train_dataloader))\n",
        "        for i,(X,Y) in loader1:\n",
        "            train_label = Y.to(self.device)\n",
        "            mask = X['attention_mask'].to(self.device)\n",
        "            input_id = X['input_ids'].to(self.device)\n",
        "            self.optimizer.zero_grad()\n",
        "            output = self.model(input_id, mask)\n",
        "            logits = output.logits\n",
        "            loss = self.compute_loss(logits,train_label,mask)\n",
        "            loss.backward()\n",
        "            self.optimizer.step()\n",
        "            predictions = logits.argmax(dim=2)\n",
        "            acc = (predictions == train_label).float().mean()\n",
        "            train_acc+=acc.item()\n",
        "            train_loss+=loss.item()\n",
        "        train_loss/=(i+1)\n",
        "        train_acc/=(i+1)\n",
        "        return train_loss,train_acc\n",
        "\n",
        "    def valid_one_epoch(self):\n",
        "        valid_loss = 0\n",
        "        valid_acc = 0\n",
        "        loader2 = enumerate(tqdm(self.valid_dataloader)) \n",
        "        self.model.eval()\n",
        "        for i,(X,Y) in loader2:\n",
        "            val_label = Y.to(self.device)\n",
        "            mask = X['attention_mask'].to(self.device)\n",
        "            input_id = X['input_ids'].to(self.device)\n",
        "            output = self.model(input_id, mask)\n",
        "            logits = output.logits\n",
        "            loss = self.compute_loss(logits,val_label,mask)\n",
        "            predictions = logits.argmax(dim=2)\n",
        "            acc = (predictions == val_label).float().mean()\n",
        "            valid_acc+=acc.item()\n",
        "            valid_loss+=loss.item()\n",
        "        valid_loss/=(i+1)\n",
        "        valid_acc/=(i+1)\n",
        "        self.model.train()\n",
        "        return valid_loss, valid_acc\n",
        "\n",
        "    def test(self):\n",
        "        test_loss = 0\n",
        "        test_acc = 0\n",
        "        loader2 = enumerate(tqdm(self.valid_dataloader)) \n",
        "        self.model.eval()\n",
        "        for i,(X,Y) in loader2:\n",
        "            val_label = Y.to(self.device)\n",
        "            mask = X['attention_mask'].to(self.device)\n",
        "            input_id = X['input_ids'].to(self.device)\n",
        "            output = self.model(input_id, mask)\n",
        "            logits = output.logits\n",
        "            loss = self.compute_loss(logits,val_label,mask)\n",
        "            predictions = logits.argmax(dim=2)\n",
        "            acc = (predictions == val_label).float().mean()\n",
        "            test_acc+=acc.item()\n",
        "            test_loss+=loss.item()\n",
        "        test_loss/=(i+1)\n",
        "        test_acc/=(i+1)\n",
        "        self.model.train()\n",
        "        return test_loss, test_acc\n",
        "\n",
        "    def fit(self, num_epochs):\n",
        "        train_losses = []\n",
        "        train_accuracies = []\n",
        "        valid_losses = []\n",
        "        valid_accuracies = []\n",
        "        for epoch in range(num_epochs):\n",
        "            train_loss, train_acc = self.train_one_epoch()\n",
        "            if self.valid_dataloader is None:\n",
        "                valid_loss = 0\n",
        "                valid_acc = 0\n",
        "            else:\n",
        "                valid_loss, valid_acc = self.valid_one_epoch()\n",
        "            train_losses.append(train_loss)\n",
        "            train_accuracies.append(train_acc)\n",
        "            valid_losses.append(valid_loss)\n",
        "            valid_accuracies.append(valid_acc)\n",
        "            if self.valid_dataloader is None:\n",
        "                print(\"epoch {} | train loss : {} | train acc : {}\".format(epoch, train_loss, train_acc))\n",
        "            else:\n",
        "                print(\"epoch {} | train loss : {} | train acc : {} | valid loss : {} | valid acc : {}\".format(epoch, train_loss, train_acc, valid_loss, valid_acc))\n",
        "            if self.use_scheduler:\n",
        "                self.scheduler.step(valid_loss)\n",
        "            if valid_loss < self.best_loss:\n",
        "                self.best_loss = valid_loss\n",
        "                self.save_weights()\n",
        "        return {\"train_loss\":train_losses, \"train_accuracy\":train_accuracies, \"valid_loss\":valid_losses, \"valid_accuracy\":valid_accuracies}\n",
        "\n",
        "    def save_weights(self, ):\n",
        "        torch.save(self.model.state_dict(), os.path.join(self.config.rootdir,\"Models\",\"BERT_NER\",\"BERTF_NER.pth\"))\n",
        "        print(\"weights saved!!\")\n",
        "    \n",
        "    def load_weights(self, dir):\n",
        "        self.model.load_state_dict(torch.load(dir, map_location=self.device))\n",
        "        print(\"weights loaded!!\")\n",
        "\n",
        "    def predict(self, sentence):\n",
        "        self.model.eval()\n",
        "        predictions = []\n",
        "        inputs = []\n",
        "        text = self.tokenizer(sentence, add_special_tokens=False, return_tensors=\"pt\")\n",
        "        text_ = self.tokenizer(sentence, add_special_tokens=False)\n",
        "        input_id_chunks = text['input_ids'][0].split(self.config.maxlen-2)\n",
        "        mask_chunks = text['attention_mask'][0].split(self.config.maxlen-2)\n",
        "        for j in range(len(input_id_chunks)):\n",
        "            inp_chunk = torch.cat([torch.Tensor([101]),input_id_chunks[j],torch.Tensor([102])])\n",
        "            msk_chunk = torch.cat([torch.Tensor([1]), mask_chunks[j], torch.Tensor([1])])\n",
        "            pad_len = self.config.maxlen - inp_chunk.shape[0]\n",
        "            if pad_len > 0:\n",
        "                inp_chunk = torch.cat([inp_chunk, torch.Tensor([0] * pad_len)])\n",
        "                msk_chunk = torch.cat([msk_chunk, torch.Tensor([0] * pad_len)])\n",
        "            input_dict = {\n",
        "                          'input_ids': inp_chunk.long(),\n",
        "                          'attention_mask': msk_chunk.int()\n",
        "                         }\n",
        "            inputs.append(input_dict)\n",
        "        \n",
        "        for inp in inputs:\n",
        "            mask = inp['attention_mask'].unsqueeze(0).to(self.device)\n",
        "            input_id = inp['input_ids'].unsqueeze(0).to(self.device)\n",
        "            logits = self.model(input_id, mask, None).logits\n",
        "            predictions.append(logits.argmax(dim=2).tolist()[0])\n",
        "\n",
        "        split_tokens = sentence.split()\n",
        "        output_words = []\n",
        "        output_entities = []\n",
        "        for p in range(len(predictions)):\n",
        "            output_entities.extend(predictions[p][1:-1])\n",
        "        comp_idx = 0\n",
        "        extension = 0\n",
        "        word_ids = text_.word_ids()\n",
        "        label_ids = []\n",
        "        i = 0\n",
        "        while i < len(word_ids):\n",
        "            if word_ids[i] is not None:\n",
        "                word = self.tokenizer.decode(text_.input_ids[i-extension:i+1])\n",
        "                if (word == split_tokens[comp_idx]) or (\"\".join(word.split()) == split_tokens[comp_idx]):\n",
        "                    label_ids.append(self.config.id_tag[output_entities[i]])\n",
        "                    comp_idx += 1\n",
        "                    extension = 0\n",
        "                elif word == '[UNK]':\n",
        "                    label_ids.append(self.config.id_tag[output_entities[i]])\n",
        "                    comp_idx += 1\n",
        "                    extension = 0\n",
        "                else:\n",
        "                    extension += 1\n",
        "            i += 1\n",
        "        entities = {}\n",
        "        for i in self.config.tag_id:\n",
        "            entities[i] = []\n",
        "        k = 0\n",
        "        prev_label = None\n",
        "        while k < len(label_ids):\n",
        "            curr_label = label_ids[k]\n",
        "            if curr_label != prev_label:\n",
        "                entities[label_ids[k]].append(split_tokens[k])\n",
        "            else:\n",
        "                entities[label_ids[k]][-1] = entities[label_ids[k]][-1] + \" \" + split_tokens[k]\n",
        "            prev_label = curr_label\n",
        "            k += 1\n",
        "        return entities"
      ],
      "metadata": {
        "id": "HSHVsAY83-iO"
      },
      "execution_count": null,
      "outputs": []
    },
    {
      "cell_type": "code",
      "source": [
        "val_text = text[:20]\n",
        "val_labels = labels[:20]\n",
        "train_text = text[20:]\n",
        "train_labels = labels[20:]"
      ],
      "metadata": {
        "id": "yq_1LJU9EdCu"
      },
      "execution_count": null,
      "outputs": []
    },
    {
      "cell_type": "code",
      "source": [
        "class FocalLoss(nn.modules.loss._WeightedLoss):\n",
        "    def __init__(self, weight=None, gamma=3,reduction='mean'):\n",
        "        super(FocalLoss, self).__init__(weight,reduction=reduction)\n",
        "        self.gamma = gamma\n",
        "        self.weight = weight #weight parameter will act as the alpha parameter to balance class weights\n",
        "\n",
        "    def forward(self, input, target):\n",
        "\n",
        "        ce_loss = F.cross_entropy(input, target,reduction=self.reduction,weight=self.weight)\n",
        "        pt = torch.exp(-ce_loss)\n",
        "        focal_loss = ((1 - pt) ** self.gamma * ce_loss).mean()\n",
        "        return focal_loss"
      ],
      "metadata": {
        "id": "yQGgF7q0PpwZ"
      },
      "execution_count": null,
      "outputs": []
    },
    {
      "cell_type": "code",
      "source": [
        "class BERTClass(torch.nn.Module):\n",
        "    def __init__(self, config):\n",
        "        super(BERTClass, self).__init__()\n",
        "        self.bert = BertForTokenClassification.from_pretrained('bert-base-cased', num_labels=len(config.tag_id))\n",
        "    \n",
        "    def forward(self, ids, mask, labels = None):\n",
        "        output = self.bert(ids, mask, labels = labels)\n",
        "        return output"
      ],
      "metadata": {
        "id": "cccrwD1_FSfx"
      },
      "execution_count": null,
      "outputs": []
    },
    {
      "cell_type": "code",
      "source": [
        "config = NERconfig(maxlen = 512, batch_size = 16, rootdir = ROOT_DIR, tag_id = tags_id, pretrained = True, use_scheduler = True)\n",
        "tokenizer = BertTokenizerFast.from_pretrained('bert-base-cased')\n",
        "train_dataset = NER_Dataset(train_text, train_labels, config,  tokenizer) \n",
        "val_dataset = NER_Dataset(val_text, val_labels, config,  tokenizer)\n",
        "criterion = FocalLoss()#weight = torch.tensor(weights)\n",
        "BERTmodel = BERTClass(config)\n",
        "optimizer = Adam(BERTmodel.parameters(), lr = 0.0001)"
      ],
      "metadata": {
        "id": "DE6cUOq-67fY",
        "colab": {
          "base_uri": "https://localhost:8080/"
        },
        "outputId": "1a9cd364-637d-42a8-cf9b-cd0a391bd999"
      },
      "execution_count": null,
      "outputs": [
        {
          "output_type": "stream",
          "name": "stderr",
          "text": [
            "Token indices sequence length is longer than the specified maximum sequence length for this model (560 > 512). Running this sequence through the model will result in indexing errors\n",
            "Some weights of the model checkpoint at bert-base-cased were not used when initializing BertForTokenClassification: ['cls.predictions.transform.dense.weight', 'cls.predictions.transform.LayerNorm.bias', 'cls.predictions.decoder.weight', 'cls.predictions.bias', 'cls.seq_relationship.weight', 'cls.seq_relationship.bias', 'cls.predictions.transform.LayerNorm.weight', 'cls.predictions.transform.dense.bias']\n",
            "- This IS expected if you are initializing BertForTokenClassification from the checkpoint of a model trained on another task or with another architecture (e.g. initializing a BertForSequenceClassification model from a BertForPreTraining model).\n",
            "- This IS NOT expected if you are initializing BertForTokenClassification from the checkpoint of a model that you expect to be exactly identical (initializing a BertForSequenceClassification model from a BertForSequenceClassification model).\n",
            "Some weights of BertForTokenClassification were not initialized from the model checkpoint at bert-base-cased and are newly initialized: ['classifier.bias', 'classifier.weight']\n",
            "You should probably TRAIN this model on a down-stream task to be able to use it for predictions and inference.\n"
          ]
        }
      ]
    },
    {
      "cell_type": "code",
      "source": [
        "trainer = Trainer(\n",
        "    BERTmodel,\n",
        "    config,\n",
        "    optimizer,\n",
        "    tokenizer,\n",
        "    criterion,\n",
        "    train_dataset,\n",
        "    val_dataset,\n",
        "    val_dataset\n",
        ")"
      ],
      "metadata": {
        "id": "4Lf1kL8S_LU8",
        "colab": {
          "base_uri": "https://localhost:8080/"
        },
        "outputId": "54843ead-1b9e-477d-9c78-7621b79966f4"
      },
      "execution_count": null,
      "outputs": [
        {
          "output_type": "stream",
          "name": "stdout",
          "text": [
            "Pretrained Weights found. Loading Pretrained weights...\n",
            "weights loaded!!\n"
          ]
        }
      ]
    },
    {
      "cell_type": "code",
      "source": [
        "history = trainer.fit(100)"
      ],
      "metadata": {
        "id": "IFQxvZ0A_La-",
        "colab": {
          "base_uri": "https://localhost:8080/"
        },
        "outputId": "54318ad3-a236-41f1-89d3-6de2e9261e38"
      },
      "execution_count": null,
      "outputs": [
        {
          "metadata": {
            "tags": null
          },
          "name": "stderr",
          "output_type": "stream",
          "text": [
            "100%|██████████| 13/13 [00:18<00:00,  1.42s/it]\n",
            "100%|██████████| 2/2 [00:00<00:00,  2.81it/s]\n"
          ]
        },
        {
          "metadata": {
            "tags": null
          },
          "name": "stdout",
          "output_type": "stream",
          "text": [
            "epoch 0 | train loss : 54.37728623472727 | train acc : 0.8611591045673077 | valid loss : 11.397019058465958 | valid acc : 0.91156005859375\n",
            "weights saved!!\n"
          ]
        },
        {
          "metadata": {
            "tags": null
          },
          "name": "stderr",
          "output_type": "stream",
          "text": [
            "100%|██████████| 13/13 [00:20<00:00,  1.57s/it]\n",
            "100%|██████████| 2/2 [00:00<00:00,  2.70it/s]\n"
          ]
        },
        {
          "metadata": {
            "tags": null
          },
          "name": "stdout",
          "output_type": "stream",
          "text": [
            "epoch 1 | train loss : 8.081614274245043 | train acc : 0.8809157151442307 | valid loss : 5.56871685385704 | valid acc : 0.87823486328125\n",
            "weights saved!!\n"
          ]
        },
        {
          "metadata": {
            "tags": null
          },
          "name": "stderr",
          "output_type": "stream",
          "text": [
            "100%|██████████| 13/13 [00:19<00:00,  1.53s/it]\n",
            "100%|██████████| 2/2 [00:00<00:00,  2.87it/s]\n"
          ]
        },
        {
          "metadata": {
            "tags": null
          },
          "name": "stdout",
          "output_type": "stream",
          "text": [
            "epoch 2 | train loss : 3.2943757543197045 | train acc : 0.8654033954326923 | valid loss : 3.698833644390106 | valid acc : 0.8233642578125\n",
            "weights saved!!\n"
          ]
        },
        {
          "metadata": {
            "tags": null
          },
          "name": "stderr",
          "output_type": "stream",
          "text": [
            "100%|██████████| 13/13 [00:19<00:00,  1.47s/it]\n",
            "100%|██████████| 2/2 [00:00<00:00,  2.93it/s]\n"
          ]
        },
        {
          "metadata": {
            "tags": null
          },
          "name": "stdout",
          "output_type": "stream",
          "text": [
            "epoch 3 | train loss : 1.533473090483592 | train acc : 0.8851318359375 | valid loss : 3.9225517213344574 | valid acc : 0.89202880859375\n"
          ]
        },
        {
          "metadata": {
            "tags": null
          },
          "name": "stderr",
          "output_type": "stream",
          "text": [
            "100%|██████████| 13/13 [00:19<00:00,  1.48s/it]\n",
            "100%|██████████| 2/2 [00:00<00:00,  2.84it/s]\n"
          ]
        },
        {
          "metadata": {
            "tags": null
          },
          "name": "stdout",
          "output_type": "stream",
          "text": [
            "epoch 4 | train loss : 0.7814675603921597 | train acc : 0.884033203125 | valid loss : 4.088719487190247 | valid acc : 0.8505859375\n"
          ]
        },
        {
          "metadata": {
            "tags": null
          },
          "name": "stderr",
          "output_type": "stream",
          "text": [
            "100%|██████████| 13/13 [00:19<00:00,  1.51s/it]\n",
            "100%|██████████| 2/2 [00:00<00:00,  2.81it/s]\n"
          ]
        },
        {
          "metadata": {
            "tags": null
          },
          "name": "stdout",
          "output_type": "stream",
          "text": [
            "epoch 5 | train loss : 0.5456054210662842 | train acc : 0.8849064753605769 | valid loss : 8.645609021186829 | valid acc : 0.86334228515625\n"
          ]
        },
        {
          "metadata": {
            "tags": null
          },
          "name": "stderr",
          "output_type": "stream",
          "text": [
            "100%|██████████| 13/13 [00:19<00:00,  1.52s/it]\n",
            "100%|██████████| 2/2 [00:00<00:00,  2.85it/s]\n"
          ]
        },
        {
          "metadata": {
            "tags": null
          },
          "name": "stdout",
          "output_type": "stream",
          "text": [
            "epoch 6 | train loss : 0.462289239351566 | train acc : 0.8907470703125 | valid loss : 5.26437783241272 | valid acc : 0.8585205078125\n",
            "Epoch 00007: reducing learning rate of group 0 to 1.0000e-05.\n"
          ]
        },
        {
          "metadata": {
            "tags": null
          },
          "name": "stderr",
          "output_type": "stream",
          "text": [
            "100%|██████████| 13/13 [00:19<00:00,  1.50s/it]\n",
            "100%|██████████| 2/2 [00:00<00:00,  2.90it/s]\n"
          ]
        },
        {
          "metadata": {
            "tags": null
          },
          "name": "stdout",
          "output_type": "stream",
          "text": [
            "epoch 7 | train loss : 0.3691521676687094 | train acc : 0.8945500300480769 | valid loss : 4.394649505615234 | valid acc : 0.831787109375\n"
          ]
        },
        {
          "metadata": {
            "tags": null
          },
          "name": "stderr",
          "output_type": "stream",
          "text": [
            "100%|██████████| 13/13 [00:19<00:00,  1.49s/it]\n",
            "100%|██████████| 2/2 [00:00<00:00,  2.86it/s]\n"
          ]
        },
        {
          "metadata": {
            "tags": null
          },
          "name": "stdout",
          "output_type": "stream",
          "text": [
            "epoch 8 | train loss : 0.4634813849742596 | train acc : 0.8876108022836539 | valid loss : 6.290082097053528 | valid acc : 0.78656005859375\n"
          ]
        },
        {
          "metadata": {
            "tags": null
          },
          "name": "stderr",
          "output_type": "stream",
          "text": [
            "100%|██████████| 13/13 [00:19<00:00,  1.50s/it]\n",
            "100%|██████████| 2/2 [00:00<00:00,  2.88it/s]\n"
          ]
        },
        {
          "metadata": {
            "tags": null
          },
          "name": "stdout",
          "output_type": "stream",
          "text": [
            "epoch 9 | train loss : 0.35488221794366837 | train acc : 0.8891319861778846 | valid loss : 11.413004159927368 | valid acc : 0.8582763671875\n"
          ]
        },
        {
          "metadata": {
            "tags": null
          },
          "name": "stderr",
          "output_type": "stream",
          "text": [
            "100%|██████████| 13/13 [00:19<00:00,  1.51s/it]\n",
            "100%|██████████| 2/2 [00:00<00:00,  2.86it/s]\n"
          ]
        },
        {
          "metadata": {
            "tags": null
          },
          "name": "stdout",
          "output_type": "stream",
          "text": [
            "epoch 10 | train loss : 0.3220708897480598 | train acc : 0.8914325420673077 | valid loss : 7.492037415504456 | valid acc : 0.869140625\n",
            "Epoch 00011: reducing learning rate of group 0 to 1.0000e-06.\n"
          ]
        },
        {
          "metadata": {
            "tags": null
          },
          "name": "stderr",
          "output_type": "stream",
          "text": [
            "100%|██████████| 13/13 [00:19<00:00,  1.51s/it]\n",
            "100%|██████████| 2/2 [00:00<00:00,  2.87it/s]\n"
          ]
        },
        {
          "metadata": {
            "tags": null
          },
          "name": "stdout",
          "output_type": "stream",
          "text": [
            "epoch 11 | train loss : 0.31802637244646365 | train acc : 0.8901461087740384 | valid loss : 8.693959712982178 | valid acc : 0.7890625\n"
          ]
        },
        {
          "metadata": {
            "tags": null
          },
          "name": "stderr",
          "output_type": "stream",
          "text": [
            "100%|██████████| 13/13 [00:19<00:00,  1.51s/it]\n",
            "100%|██████████| 2/2 [00:00<00:00,  2.86it/s]\n"
          ]
        },
        {
          "metadata": {
            "tags": null
          },
          "name": "stdout",
          "output_type": "stream",
          "text": [
            "epoch 12 | train loss : 0.3598253560753969 | train acc : 0.8928692157451923 | valid loss : 4.255472309887409 | valid acc : 0.89324951171875\n"
          ]
        },
        {
          "metadata": {
            "tags": null
          },
          "name": "stderr",
          "output_type": "stream",
          "text": [
            "100%|██████████| 13/13 [00:19<00:00,  1.51s/it]\n",
            "100%|██████████| 2/2 [00:00<00:00,  2.84it/s]\n"
          ]
        },
        {
          "metadata": {
            "tags": null
          },
          "name": "stdout",
          "output_type": "stream",
          "text": [
            "epoch 13 | train loss : 0.3786468322460468 | train acc : 0.8939396784855769 | valid loss : 3.6817037891596556 | valid acc : 0.81353759765625\n",
            "weights saved!!\n"
          ]
        },
        {
          "metadata": {
            "tags": null
          },
          "name": "stderr",
          "output_type": "stream",
          "text": [
            "100%|██████████| 13/13 [00:19<00:00,  1.50s/it]\n",
            "100%|██████████| 2/2 [00:00<00:00,  2.84it/s]\n"
          ]
        },
        {
          "metadata": {
            "tags": null
          },
          "name": "stdout",
          "output_type": "stream",
          "text": [
            "epoch 14 | train loss : 0.33535493451815385 | train acc : 0.8878079927884616 | valid loss : 4.157507061958313 | valid acc : 0.86273193359375\n"
          ]
        },
        {
          "metadata": {
            "tags": null
          },
          "name": "stderr",
          "output_type": "stream",
          "text": [
            "100%|██████████| 13/13 [00:19<00:00,  1.51s/it]\n",
            "100%|██████████| 2/2 [00:00<00:00,  2.85it/s]\n"
          ]
        },
        {
          "metadata": {
            "tags": null
          },
          "name": "stdout",
          "output_type": "stream",
          "text": [
            "epoch 15 | train loss : 0.36594069161667275 | train acc : 0.8922306941105769 | valid loss : 3.7665996849536896 | valid acc : 0.89276123046875\n"
          ]
        },
        {
          "metadata": {
            "tags": null
          },
          "name": "stderr",
          "output_type": "stream",
          "text": [
            "100%|██████████| 13/13 [00:19<00:00,  1.51s/it]\n",
            "100%|██████████| 2/2 [00:00<00:00,  2.83it/s]\n"
          ]
        },
        {
          "metadata": {
            "tags": null
          },
          "name": "stdout",
          "output_type": "stream",
          "text": [
            "epoch 16 | train loss : 0.3899915542166967 | train acc : 0.8925123948317307 | valid loss : 4.428436849266291 | valid acc : 0.8951416015625\n"
          ]
        },
        {
          "metadata": {
            "tags": null
          },
          "name": "stderr",
          "output_type": "stream",
          "text": [
            "100%|██████████| 13/13 [00:19<00:00,  1.51s/it]\n",
            "100%|██████████| 2/2 [00:00<00:00,  2.88it/s]\n"
          ]
        },
        {
          "metadata": {
            "tags": null
          },
          "name": "stdout",
          "output_type": "stream",
          "text": [
            "epoch 17 | train loss : 0.33473428510702574 | train acc : 0.8924842247596154 | valid loss : 11.620856285095215 | valid acc : 0.81915283203125\n",
            "Epoch 00018: reducing learning rate of group 0 to 1.0000e-07.\n"
          ]
        },
        {
          "metadata": {
            "tags": null
          },
          "name": "stderr",
          "output_type": "stream",
          "text": [
            "100%|██████████| 13/13 [00:19<00:00,  1.51s/it]\n",
            "100%|██████████| 2/2 [00:00<00:00,  2.84it/s]\n"
          ]
        },
        {
          "metadata": {
            "tags": null
          },
          "name": "stdout",
          "output_type": "stream",
          "text": [
            "epoch 18 | train loss : 0.3679855643556668 | train acc : 0.8928034855769231 | valid loss : 3.9131895303726196 | valid acc : 0.78411865234375\n"
          ]
        },
        {
          "metadata": {
            "tags": null
          },
          "name": "stderr",
          "output_type": "stream",
          "text": [
            "100%|██████████| 13/13 [00:19<00:00,  1.50s/it]\n",
            "100%|██████████| 2/2 [00:00<00:00,  2.86it/s]\n"
          ]
        },
        {
          "metadata": {
            "tags": null
          },
          "name": "stdout",
          "output_type": "stream",
          "text": [
            "epoch 19 | train loss : 0.36385356004421526 | train acc : 0.8930288461538461 | valid loss : 3.7277851998806 | valid acc : 0.83319091796875\n"
          ]
        },
        {
          "metadata": {
            "tags": null
          },
          "name": "stderr",
          "output_type": "stream",
          "text": [
            "100%|██████████| 13/13 [00:19<00:00,  1.50s/it]\n",
            "100%|██████████| 2/2 [00:00<00:00,  2.87it/s]\n"
          ]
        },
        {
          "metadata": {
            "tags": null
          },
          "name": "stdout",
          "output_type": "stream",
          "text": [
            "epoch 20 | train loss : 0.37669570084947807 | train acc : 0.8879582331730769 | valid loss : 3.8152756690979004 | valid acc : 0.86029052734375\n"
          ]
        },
        {
          "metadata": {
            "tags": null
          },
          "name": "stderr",
          "output_type": "stream",
          "text": [
            "100%|██████████| 13/13 [00:19<00:00,  1.50s/it]\n",
            "100%|██████████| 2/2 [00:00<00:00,  2.87it/s]\n"
          ]
        },
        {
          "metadata": {
            "tags": null
          },
          "name": "stdout",
          "output_type": "stream",
          "text": [
            "epoch 21 | train loss : 0.41976395449959314 | train acc : 0.8859769381009616 | valid loss : 5.745797276496887 | valid acc : 0.83319091796875\n",
            "Epoch 00022: reducing learning rate of group 0 to 1.0000e-08.\n"
          ]
        },
        {
          "metadata": {
            "tags": null
          },
          "name": "stderr",
          "output_type": "stream",
          "text": [
            "100%|██████████| 13/13 [00:19<00:00,  1.50s/it]\n",
            "100%|██████████| 2/2 [00:00<00:00,  2.87it/s]\n"
          ]
        },
        {
          "metadata": {
            "tags": null
          },
          "name": "stdout",
          "output_type": "stream",
          "text": [
            "epoch 22 | train loss : 0.35413474016464674 | train acc : 0.8899864783653846 | valid loss : 7.683015942573547 | valid acc : 0.7513427734375\n"
          ]
        },
        {
          "metadata": {
            "tags": null
          },
          "name": "stderr",
          "output_type": "stream",
          "text": [
            "100%|██████████| 13/13 [00:19<00:00,  1.50s/it]\n",
            "100%|██████████| 2/2 [00:00<00:00,  2.87it/s]\n"
          ]
        },
        {
          "metadata": {
            "tags": null
          },
          "name": "stdout",
          "output_type": "stream",
          "text": [
            "epoch 23 | train loss : 0.34671138714139277 | train acc : 0.8920710637019231 | valid loss : 29.443936228752136 | valid acc : 0.78851318359375\n"
          ]
        },
        {
          "metadata": {
            "tags": null
          },
          "name": "stderr",
          "output_type": "stream",
          "text": [
            "100%|██████████| 13/13 [00:19<00:00,  1.50s/it]\n",
            "100%|██████████| 2/2 [00:00<00:00,  2.84it/s]\n"
          ]
        },
        {
          "metadata": {
            "tags": null
          },
          "name": "stdout",
          "output_type": "stream",
          "text": [
            "epoch 24 | train loss : 0.3719317643688275 | train acc : 0.8930757962740384 | valid loss : 3.394824594259262 | valid acc : 0.8271484375\n",
            "weights saved!!\n"
          ]
        },
        {
          "metadata": {
            "tags": null
          },
          "name": "stderr",
          "output_type": "stream",
          "text": [
            "100%|██████████| 13/13 [00:19<00:00,  1.50s/it]\n",
            "100%|██████████| 2/2 [00:00<00:00,  2.86it/s]\n"
          ]
        },
        {
          "metadata": {
            "tags": null
          },
          "name": "stdout",
          "output_type": "stream",
          "text": [
            "epoch 25 | train loss : 0.36867891481289494 | train acc : 0.8942401592548077 | valid loss : 3.535814583301544 | valid acc : 0.7978515625\n"
          ]
        },
        {
          "metadata": {
            "tags": null
          },
          "name": "stderr",
          "output_type": "stream",
          "text": [
            "100%|██████████| 13/13 [00:19<00:00,  1.51s/it]\n",
            "100%|██████████| 2/2 [00:00<00:00,  2.85it/s]\n"
          ]
        },
        {
          "metadata": {
            "tags": null
          },
          "name": "stdout",
          "output_type": "stream",
          "text": [
            "epoch 26 | train loss : 0.3106327813405257 | train acc : 0.890869140625 | valid loss : 4.645423889160156 | valid acc : 0.7802734375\n"
          ]
        },
        {
          "metadata": {
            "tags": null
          },
          "name": "stderr",
          "output_type": "stream",
          "text": [
            "100%|██████████| 13/13 [00:19<00:00,  1.51s/it]\n",
            "100%|██████████| 2/2 [00:00<00:00,  2.83it/s]\n"
          ]
        },
        {
          "metadata": {
            "tags": null
          },
          "name": "stdout",
          "output_type": "stream",
          "text": [
            "epoch 27 | train loss : 0.39606896386696744 | train acc : 0.8913010817307693 | valid loss : 7.808812856674194 | valid acc : 0.79583740234375\n"
          ]
        },
        {
          "metadata": {
            "tags": null
          },
          "name": "stderr",
          "output_type": "stream",
          "text": [
            "100%|██████████| 13/13 [00:19<00:00,  1.50s/it]\n",
            "100%|██████████| 2/2 [00:00<00:00,  2.87it/s]\n"
          ]
        },
        {
          "metadata": {
            "tags": null
          },
          "name": "stdout",
          "output_type": "stream",
          "text": [
            "epoch 28 | train loss : 0.3301737543482047 | train acc : 0.8842303936298077 | valid loss : 3.778633251786232 | valid acc : 0.86962890625\n"
          ]
        },
        {
          "metadata": {
            "tags": null
          },
          "name": "stderr",
          "output_type": "stream",
          "text": [
            "100%|██████████| 13/13 [00:19<00:00,  1.50s/it]\n",
            "100%|██████████| 2/2 [00:00<00:00,  2.88it/s]\n"
          ]
        },
        {
          "metadata": {
            "tags": null
          },
          "name": "stdout",
          "output_type": "stream",
          "text": [
            "epoch 29 | train loss : 0.3437522308757672 | train acc : 0.8894418569711539 | valid loss : 16.17123520374298 | valid acc : 0.8597412109375\n"
          ]
        },
        {
          "metadata": {
            "tags": null
          },
          "name": "stderr",
          "output_type": "stream",
          "text": [
            "100%|██████████| 13/13 [00:19<00:00,  1.50s/it]\n",
            "100%|██████████| 2/2 [00:00<00:00,  2.87it/s]\n"
          ]
        },
        {
          "metadata": {
            "tags": null
          },
          "name": "stdout",
          "output_type": "stream",
          "text": [
            "epoch 30 | train loss : 0.37759724947122425 | train acc : 0.8908128004807693 | valid loss : 3.52412873506546 | valid acc : 0.84930419921875\n"
          ]
        },
        {
          "metadata": {
            "tags": null
          },
          "name": "stderr",
          "output_type": "stream",
          "text": [
            "100%|██████████| 13/13 [00:19<00:00,  1.50s/it]\n",
            "100%|██████████| 2/2 [00:00<00:00,  2.85it/s]\n"
          ]
        },
        {
          "metadata": {
            "tags": null
          },
          "name": "stdout",
          "output_type": "stream",
          "text": [
            "epoch 31 | train loss : 0.35479634828292406 | train acc : 0.8888596754807693 | valid loss : 4.03136682510376 | valid acc : 0.88134765625\n"
          ]
        },
        {
          "metadata": {
            "tags": null
          },
          "name": "stderr",
          "output_type": "stream",
          "text": [
            "100%|██████████| 13/13 [00:19<00:00,  1.50s/it]\n",
            "100%|██████████| 2/2 [00:00<00:00,  2.89it/s]\n"
          ]
        },
        {
          "metadata": {
            "tags": null
          },
          "name": "stdout",
          "output_type": "stream",
          "text": [
            "epoch 32 | train loss : 0.3331160144164012 | train acc : 0.8899113581730769 | valid loss : 5.133452415466309 | valid acc : 0.84619140625\n"
          ]
        },
        {
          "metadata": {
            "tags": null
          },
          "name": "stderr",
          "output_type": "stream",
          "text": [
            "100%|██████████| 13/13 [00:19<00:00,  1.50s/it]\n",
            "100%|██████████| 2/2 [00:00<00:00,  2.87it/s]\n"
          ]
        },
        {
          "metadata": {
            "tags": null
          },
          "name": "stdout",
          "output_type": "stream",
          "text": [
            "epoch 33 | train loss : 0.31431660056114197 | train acc : 0.8933950570913461 | valid loss : 3.9289311170578003 | valid acc : 0.86798095703125\n"
          ]
        },
        {
          "metadata": {
            "tags": null
          },
          "name": "stderr",
          "output_type": "stream",
          "text": [
            "100%|██████████| 13/13 [00:19<00:00,  1.50s/it]\n",
            "100%|██████████| 2/2 [00:00<00:00,  2.86it/s]\n"
          ]
        },
        {
          "metadata": {
            "tags": null
          },
          "name": "stdout",
          "output_type": "stream",
          "text": [
            "epoch 34 | train loss : 0.3367859520591222 | train acc : 0.8936485877403846 | valid loss : 4.098596327006817 | valid acc : 0.89105224609375\n"
          ]
        },
        {
          "metadata": {
            "tags": null
          },
          "name": "stderr",
          "output_type": "stream",
          "text": [
            "100%|██████████| 13/13 [00:19<00:00,  1.50s/it]\n",
            "100%|██████████| 2/2 [00:00<00:00,  2.86it/s]\n"
          ]
        },
        {
          "metadata": {
            "tags": null
          },
          "name": "stdout",
          "output_type": "stream",
          "text": [
            "epoch 35 | train loss : 0.33722320944070816 | train acc : 0.8897892878605769 | valid loss : 3.544832944869995 | valid acc : 0.8883056640625\n"
          ]
        },
        {
          "metadata": {
            "tags": null
          },
          "name": "stderr",
          "output_type": "stream",
          "text": [
            "100%|██████████| 13/13 [00:19<00:00,  1.50s/it]\n",
            "100%|██████████| 2/2 [00:00<00:00,  2.86it/s]\n"
          ]
        },
        {
          "metadata": {
            "tags": null
          },
          "name": "stdout",
          "output_type": "stream",
          "text": [
            "epoch 36 | train loss : 0.34761349398356217 | train acc : 0.8932917668269231 | valid loss : 3.4947583377361298 | valid acc : 0.85443115234375\n"
          ]
        },
        {
          "metadata": {
            "tags": null
          },
          "name": "stderr",
          "output_type": "stream",
          "text": [
            "100%|██████████| 13/13 [00:19<00:00,  1.50s/it]\n",
            "100%|██████████| 2/2 [00:00<00:00,  2.83it/s]\n"
          ]
        },
        {
          "metadata": {
            "tags": null
          },
          "name": "stdout",
          "output_type": "stream",
          "text": [
            "epoch 37 | train loss : 0.3012581920394531 | train acc : 0.8834791917067307 | valid loss : 3.6002302765846252 | valid acc : 0.832275390625\n"
          ]
        },
        {
          "metadata": {
            "tags": null
          },
          "name": "stderr",
          "output_type": "stream",
          "text": [
            "100%|██████████| 13/13 [00:19<00:00,  1.50s/it]\n",
            "100%|██████████| 2/2 [00:00<00:00,  2.87it/s]\n"
          ]
        },
        {
          "metadata": {
            "tags": null
          },
          "name": "stdout",
          "output_type": "stream",
          "text": [
            "epoch 38 | train loss : 0.3327289985922667 | train acc : 0.8935359074519231 | valid loss : 6.457970023155212 | valid acc : 0.82806396484375\n"
          ]
        },
        {
          "metadata": {
            "tags": null
          },
          "name": "stderr",
          "output_type": "stream",
          "text": [
            "100%|██████████| 13/13 [00:19<00:00,  1.51s/it]\n",
            "100%|██████████| 2/2 [00:00<00:00,  2.86it/s]\n"
          ]
        },
        {
          "metadata": {
            "tags": null
          },
          "name": "stdout",
          "output_type": "stream",
          "text": [
            "epoch 39 | train loss : 0.34683449279803497 | train acc : 0.8895451472355769 | valid loss : 7.86949610710144 | valid acc : 0.84344482421875\n"
          ]
        },
        {
          "metadata": {
            "tags": null
          },
          "name": "stderr",
          "output_type": "stream",
          "text": [
            "100%|██████████| 13/13 [00:19<00:00,  1.50s/it]\n",
            "100%|██████████| 2/2 [00:00<00:00,  2.86it/s]\n"
          ]
        },
        {
          "metadata": {
            "tags": null
          },
          "name": "stdout",
          "output_type": "stream",
          "text": [
            "epoch 40 | train loss : 0.42594768508122516 | train acc : 0.8889817457932693 | valid loss : 4.212039351463318 | valid acc : 0.85772705078125\n"
          ]
        },
        {
          "metadata": {
            "tags": null
          },
          "name": "stderr",
          "output_type": "stream",
          "text": [
            "100%|██████████| 13/13 [00:19<00:00,  1.50s/it]\n",
            "100%|██████████| 2/2 [00:00<00:00,  2.86it/s]\n"
          ]
        },
        {
          "metadata": {
            "tags": null
          },
          "name": "stdout",
          "output_type": "stream",
          "text": [
            "epoch 41 | train loss : 0.357990350574255 | train acc : 0.8936298076923077 | valid loss : 3.6337006092071533 | valid acc : 0.86358642578125\n"
          ]
        },
        {
          "metadata": {
            "tags": null
          },
          "name": "stderr",
          "output_type": "stream",
          "text": [
            "100%|██████████| 13/13 [00:19<00:00,  1.50s/it]\n",
            "100%|██████████| 2/2 [00:00<00:00,  2.86it/s]\n"
          ]
        },
        {
          "metadata": {
            "tags": null
          },
          "name": "stdout",
          "output_type": "stream",
          "text": [
            "epoch 42 | train loss : 0.3050741427219831 | train acc : 0.8916579026442307 | valid loss : 3.512462943792343 | valid acc : 0.86431884765625\n"
          ]
        },
        {
          "metadata": {
            "tags": null
          },
          "name": "stderr",
          "output_type": "stream",
          "text": [
            "100%|██████████| 13/13 [00:19<00:00,  1.50s/it]\n",
            "100%|██████████| 2/2 [00:00<00:00,  2.87it/s]\n"
          ]
        },
        {
          "metadata": {
            "tags": null
          },
          "name": "stdout",
          "output_type": "stream",
          "text": [
            "epoch 43 | train loss : 0.37181836997087186 | train acc : 0.8942307692307693 | valid loss : 3.698994904756546 | valid acc : 0.8707275390625\n"
          ]
        },
        {
          "metadata": {
            "tags": null
          },
          "name": "stderr",
          "output_type": "stream",
          "text": [
            "100%|██████████| 13/13 [00:19<00:00,  1.50s/it]\n",
            "100%|██████████| 2/2 [00:00<00:00,  2.90it/s]\n"
          ]
        },
        {
          "metadata": {
            "tags": null
          },
          "name": "stdout",
          "output_type": "stream",
          "text": [
            "epoch 44 | train loss : 0.4099820912457429 | train acc : 0.8917705829326923 | valid loss : 3.762400098145008 | valid acc : 0.8377685546875\n"
          ]
        },
        {
          "metadata": {
            "tags": null
          },
          "name": "stderr",
          "output_type": "stream",
          "text": [
            "100%|██████████| 13/13 [00:19<00:00,  1.50s/it]\n",
            "100%|██████████| 2/2 [00:00<00:00,  2.86it/s]\n"
          ]
        },
        {
          "metadata": {
            "tags": null
          },
          "name": "stdout",
          "output_type": "stream",
          "text": [
            "epoch 45 | train loss : 0.35445696086837697 | train acc : 0.8911696213942307 | valid loss : 6.790360689163208 | valid acc : 0.8531494140625\n"
          ]
        },
        {
          "metadata": {
            "tags": null
          },
          "name": "stderr",
          "output_type": "stream",
          "text": [
            "100%|██████████| 13/13 [00:19<00:00,  1.50s/it]\n",
            "100%|██████████| 2/2 [00:00<00:00,  2.85it/s]\n"
          ]
        },
        {
          "metadata": {
            "tags": null
          },
          "name": "stdout",
          "output_type": "stream",
          "text": [
            "epoch 46 | train loss : 0.36919035103458625 | train acc : 0.8935265174278846 | valid loss : 3.5541931986808777 | valid acc : 0.82000732421875\n"
          ]
        },
        {
          "metadata": {
            "tags": null
          },
          "name": "stderr",
          "output_type": "stream",
          "text": [
            "100%|██████████| 13/13 [00:19<00:00,  1.50s/it]\n",
            "100%|██████████| 2/2 [00:00<00:00,  2.86it/s]\n"
          ]
        },
        {
          "metadata": {
            "tags": null
          },
          "name": "stdout",
          "output_type": "stream",
          "text": [
            "epoch 47 | train loss : 0.34085727024536866 | train acc : 0.8931415264423077 | valid loss : 3.6529574394226074 | valid acc : 0.86285400390625\n"
          ]
        },
        {
          "metadata": {
            "tags": null
          },
          "name": "stderr",
          "output_type": "stream",
          "text": [
            "100%|██████████| 13/13 [00:19<00:00,  1.50s/it]\n",
            "100%|██████████| 2/2 [00:00<00:00,  2.84it/s]\n"
          ]
        },
        {
          "metadata": {
            "tags": null
          },
          "name": "stdout",
          "output_type": "stream",
          "text": [
            "epoch 48 | train loss : 0.3667511705022592 | train acc : 0.8894888070913461 | valid loss : 15.536210477352142 | valid acc : 0.860107421875\n"
          ]
        },
        {
          "metadata": {
            "tags": null
          },
          "name": "stderr",
          "output_type": "stream",
          "text": [
            "100%|██████████| 13/13 [00:19<00:00,  1.50s/it]\n",
            "100%|██████████| 2/2 [00:00<00:00,  2.86it/s]\n"
          ]
        },
        {
          "metadata": {
            "tags": null
          },
          "name": "stdout",
          "output_type": "stream",
          "text": [
            "epoch 49 | train loss : 0.32592962624935 | train acc : 0.8923903245192307 | valid loss : 4.127393126487732 | valid acc : 0.855712890625\n"
          ]
        },
        {
          "metadata": {
            "tags": null
          },
          "name": "stderr",
          "output_type": "stream",
          "text": [
            "100%|██████████| 13/13 [00:19<00:00,  1.50s/it]\n",
            "100%|██████████| 2/2 [00:00<00:00,  2.86it/s]\n"
          ]
        },
        {
          "metadata": {
            "tags": null
          },
          "name": "stdout",
          "output_type": "stream",
          "text": [
            "epoch 50 | train loss : 0.33075108608374226 | train acc : 0.8885873647836539 | valid loss : 4.127625226974487 | valid acc : 0.86175537109375\n"
          ]
        },
        {
          "metadata": {
            "tags": null
          },
          "name": "stderr",
          "output_type": "stream",
          "text": [
            "100%|██████████| 13/13 [00:19<00:00,  1.50s/it]\n",
            "100%|██████████| 2/2 [00:00<00:00,  2.86it/s]\n"
          ]
        },
        {
          "metadata": {
            "tags": null
          },
          "name": "stdout",
          "output_type": "stream",
          "text": [
            "epoch 51 | train loss : 0.40094896119374496 | train acc : 0.8879582331730769 | valid loss : 4.411247253417969 | valid acc : 0.874755859375\n"
          ]
        },
        {
          "metadata": {
            "tags": null
          },
          "name": "stderr",
          "output_type": "stream",
          "text": [
            "100%|██████████| 13/13 [00:19<00:00,  1.50s/it]\n",
            "100%|██████████| 2/2 [00:00<00:00,  2.84it/s]\n"
          ]
        },
        {
          "metadata": {
            "tags": null
          },
          "name": "stdout",
          "output_type": "stream",
          "text": [
            "epoch 52 | train loss : 0.3182990321746239 | train acc : 0.8910851111778846 | valid loss : 3.5272032022476196 | valid acc : 0.8670654296875\n"
          ]
        },
        {
          "metadata": {
            "tags": null
          },
          "name": "stderr",
          "output_type": "stream",
          "text": [
            "100%|██████████| 13/13 [00:19<00:00,  1.50s/it]\n",
            "100%|██████████| 2/2 [00:00<00:00,  2.86it/s]\n"
          ]
        },
        {
          "metadata": {
            "tags": null
          },
          "name": "stdout",
          "output_type": "stream",
          "text": [
            "epoch 53 | train loss : 0.32363997055934024 | train acc : 0.8922964242788461 | valid loss : 3.5790239572525024 | valid acc : 0.89141845703125\n"
          ]
        },
        {
          "metadata": {
            "tags": null
          },
          "name": "stderr",
          "output_type": "stream",
          "text": [
            "100%|██████████| 13/13 [00:19<00:00,  1.51s/it]\n",
            "100%|██████████| 2/2 [00:00<00:00,  2.86it/s]\n"
          ]
        },
        {
          "metadata": {
            "tags": null
          },
          "name": "stdout",
          "output_type": "stream",
          "text": [
            "epoch 54 | train loss : 0.3345246286346362 | train acc : 0.8908503605769231 | valid loss : 16.32058870792389 | valid acc : 0.80389404296875\n"
          ]
        },
        {
          "metadata": {
            "tags": null
          },
          "name": "stderr",
          "output_type": "stream",
          "text": [
            "100%|██████████| 13/13 [00:19<00:00,  1.51s/it]\n",
            "100%|██████████| 2/2 [00:00<00:00,  2.87it/s]\n"
          ]
        },
        {
          "metadata": {
            "tags": null
          },
          "name": "stdout",
          "output_type": "stream",
          "text": [
            "epoch 55 | train loss : 0.3112358089822989 | train acc : 0.8900709885817307 | valid loss : 3.7120247781276703 | valid acc : 0.87017822265625\n"
          ]
        },
        {
          "metadata": {
            "tags": null
          },
          "name": "stderr",
          "output_type": "stream",
          "text": [
            "100%|██████████| 13/13 [00:19<00:00,  1.51s/it]\n",
            "100%|██████████| 2/2 [00:00<00:00,  2.83it/s]\n"
          ]
        },
        {
          "metadata": {
            "tags": null
          },
          "name": "stdout",
          "output_type": "stream",
          "text": [
            "epoch 56 | train loss : 0.3522126336510365 | train acc : 0.8840801532451923 | valid loss : 4.576955427182838 | valid acc : 0.90020751953125\n"
          ]
        },
        {
          "metadata": {
            "tags": null
          },
          "name": "stderr",
          "output_type": "stream",
          "text": [
            "100%|██████████| 13/13 [00:19<00:00,  1.51s/it]\n",
            "100%|██████████| 2/2 [00:00<00:00,  2.87it/s]\n"
          ]
        },
        {
          "metadata": {
            "tags": null
          },
          "name": "stdout",
          "output_type": "stream",
          "text": [
            "epoch 57 | train loss : 0.3759250927429933 | train acc : 0.8937706580528846 | valid loss : 3.6386303370818496 | valid acc : 0.8370361328125\n"
          ]
        },
        {
          "metadata": {
            "tags": null
          },
          "name": "stderr",
          "output_type": "stream",
          "text": [
            "100%|██████████| 13/13 [00:19<00:00,  1.51s/it]\n",
            "100%|██████████| 2/2 [00:00<00:00,  2.87it/s]\n"
          ]
        },
        {
          "metadata": {
            "tags": null
          },
          "name": "stdout",
          "output_type": "stream",
          "text": [
            "epoch 58 | train loss : 0.32820214846959483 | train acc : 0.8909536508413461 | valid loss : 3.835735857486725 | valid acc : 0.89324951171875\n"
          ]
        },
        {
          "metadata": {
            "tags": null
          },
          "name": "stderr",
          "output_type": "stream",
          "text": [
            "100%|██████████| 13/13 [00:19<00:00,  1.50s/it]\n",
            "100%|██████████| 2/2 [00:00<00:00,  2.83it/s]\n"
          ]
        },
        {
          "metadata": {
            "tags": null
          },
          "name": "stdout",
          "output_type": "stream",
          "text": [
            "epoch 59 | train loss : 0.380297598357384 | train acc : 0.8905217097355769 | valid loss : 3.707142949104309 | valid acc : 0.8817138671875\n"
          ]
        },
        {
          "metadata": {
            "tags": null
          },
          "name": "stderr",
          "output_type": "stream",
          "text": [
            "100%|██████████| 13/13 [00:19<00:00,  1.50s/it]\n",
            "100%|██████████| 2/2 [00:00<00:00,  2.86it/s]\n"
          ]
        },
        {
          "metadata": {
            "tags": null
          },
          "name": "stdout",
          "output_type": "stream",
          "text": [
            "epoch 60 | train loss : 0.43760533974720883 | train acc : 0.8895451472355769 | valid loss : 9.127990365028381 | valid acc : 0.85186767578125\n"
          ]
        },
        {
          "metadata": {
            "tags": null
          },
          "name": "stderr",
          "output_type": "stream",
          "text": [
            "100%|██████████| 13/13 [00:19<00:00,  1.50s/it]\n",
            "100%|██████████| 2/2 [00:00<00:00,  2.86it/s]\n"
          ]
        },
        {
          "metadata": {
            "tags": null
          },
          "name": "stdout",
          "output_type": "stream",
          "text": [
            "epoch 61 | train loss : 0.32258968399121213 | train acc : 0.8931603064903846 | valid loss : 15.553890109062195 | valid acc : 0.833740234375\n"
          ]
        },
        {
          "metadata": {
            "tags": null
          },
          "name": "stderr",
          "output_type": "stream",
          "text": [
            "100%|██████████| 13/13 [00:19<00:00,  1.50s/it]\n",
            "100%|██████████| 2/2 [00:00<00:00,  2.87it/s]\n"
          ]
        },
        {
          "metadata": {
            "tags": null
          },
          "name": "stdout",
          "output_type": "stream",
          "text": [
            "epoch 62 | train loss : 0.3586527627821152 | train acc : 0.8918832632211539 | valid loss : 3.774718686938286 | valid acc : 0.87200927734375\n"
          ]
        },
        {
          "metadata": {
            "tags": null
          },
          "name": "stderr",
          "output_type": "stream",
          "text": [
            "100%|██████████| 13/13 [00:19<00:00,  1.50s/it]\n",
            "100%|██████████| 2/2 [00:00<00:00,  2.85it/s]\n"
          ]
        },
        {
          "metadata": {
            "tags": null
          },
          "name": "stdout",
          "output_type": "stream",
          "text": [
            "epoch 63 | train loss : 0.3370648358876889 | train acc : 0.8884559044471154 | valid loss : 50.533221900463104 | valid acc : 0.77294921875\n"
          ]
        },
        {
          "metadata": {
            "tags": null
          },
          "name": "stderr",
          "output_type": "stream",
          "text": [
            "100%|██████████| 13/13 [00:19<00:00,  1.51s/it]\n",
            "100%|██████████| 2/2 [00:00<00:00,  2.87it/s]\n"
          ]
        },
        {
          "metadata": {
            "tags": null
          },
          "name": "stdout",
          "output_type": "stream",
          "text": [
            "epoch 64 | train loss : 0.3629402074103172 | train acc : 0.8874887319711539 | valid loss : 13.858468651771545 | valid acc : 0.84307861328125\n"
          ]
        },
        {
          "metadata": {
            "tags": null
          },
          "name": "stderr",
          "output_type": "stream",
          "text": [
            "100%|██████████| 13/13 [00:19<00:00,  1.51s/it]\n",
            "100%|██████████| 2/2 [00:00<00:00,  2.83it/s]\n"
          ]
        },
        {
          "metadata": {
            "tags": null
          },
          "name": "stdout",
          "output_type": "stream",
          "text": [
            "epoch 65 | train loss : 0.3271830305457115 | train acc : 0.8881554236778846 | valid loss : 3.964956521987915 | valid acc : 0.882080078125\n"
          ]
        },
        {
          "metadata": {
            "tags": null
          },
          "name": "stderr",
          "output_type": "stream",
          "text": [
            "100%|██████████| 13/13 [00:19<00:00,  1.51s/it]\n",
            "100%|██████████| 2/2 [00:00<00:00,  2.85it/s]\n"
          ]
        },
        {
          "metadata": {
            "tags": null
          },
          "name": "stdout",
          "output_type": "stream",
          "text": [
            "epoch 66 | train loss : 0.3579925396121465 | train acc : 0.8834040715144231 | valid loss : 7.2254544496536255 | valid acc : 0.8465576171875\n"
          ]
        },
        {
          "metadata": {
            "tags": null
          },
          "name": "stderr",
          "output_type": "stream",
          "text": [
            "100%|██████████| 13/13 [00:19<00:00,  1.51s/it]\n",
            "100%|██████████| 2/2 [00:00<00:00,  2.84it/s]\n"
          ]
        },
        {
          "metadata": {
            "tags": null
          },
          "name": "stdout",
          "output_type": "stream",
          "text": [
            "epoch 67 | train loss : 0.3622567527569257 | train acc : 0.8906062199519231 | valid loss : 4.074621677398682 | valid acc : 0.84161376953125\n"
          ]
        },
        {
          "metadata": {
            "tags": null
          },
          "name": "stderr",
          "output_type": "stream",
          "text": [
            "100%|██████████| 13/13 [00:19<00:00,  1.51s/it]\n",
            "100%|██████████| 2/2 [00:00<00:00,  2.85it/s]\n"
          ]
        },
        {
          "metadata": {
            "tags": null
          },
          "name": "stdout",
          "output_type": "stream",
          "text": [
            "epoch 68 | train loss : 0.3650768960897739 | train acc : 0.8926814152644231 | valid loss : 3.9506547451019287 | valid acc : 0.88006591796875\n"
          ]
        },
        {
          "metadata": {
            "tags": null
          },
          "name": "stderr",
          "output_type": "stream",
          "text": [
            "100%|██████████| 13/13 [00:19<00:00,  1.50s/it]\n",
            "100%|██████████| 2/2 [00:00<00:00,  2.88it/s]\n"
          ]
        },
        {
          "metadata": {
            "tags": null
          },
          "name": "stdout",
          "output_type": "stream",
          "text": [
            "epoch 69 | train loss : 0.32249371564159024 | train acc : 0.8925687349759616 | valid loss : 3.54440701007843 | valid acc : 0.82989501953125\n"
          ]
        },
        {
          "metadata": {
            "tags": null
          },
          "name": "stderr",
          "output_type": "stream",
          "text": [
            "100%|██████████| 13/13 [00:19<00:00,  1.50s/it]\n",
            "100%|██████████| 2/2 [00:00<00:00,  2.87it/s]\n"
          ]
        },
        {
          "metadata": {
            "tags": null
          },
          "name": "stdout",
          "output_type": "stream",
          "text": [
            "epoch 70 | train loss : 0.4302906494301099 | train acc : 0.8917987530048077 | valid loss : 9.926812291145325 | valid acc : 0.8502197265625\n"
          ]
        },
        {
          "metadata": {
            "tags": null
          },
          "name": "stderr",
          "output_type": "stream",
          "text": [
            "100%|██████████| 13/13 [00:19<00:00,  1.50s/it]\n",
            "100%|██████████| 2/2 [00:00<00:00,  2.86it/s]\n"
          ]
        },
        {
          "metadata": {
            "tags": null
          },
          "name": "stdout",
          "output_type": "stream",
          "text": [
            "epoch 71 | train loss : 0.3383290650179753 | train acc : 0.8886906550480769 | valid loss : 7.395904183387756 | valid acc : 0.8363037109375\n"
          ]
        },
        {
          "metadata": {
            "tags": null
          },
          "name": "stderr",
          "output_type": "stream",
          "text": [
            "100%|██████████| 13/13 [00:19<00:00,  1.50s/it]\n",
            "100%|██████████| 2/2 [00:00<00:00,  2.86it/s]\n"
          ]
        },
        {
          "metadata": {
            "tags": null
          },
          "name": "stdout",
          "output_type": "stream",
          "text": [
            "epoch 72 | train loss : 0.40499282399049175 | train acc : 0.8889911358173077 | valid loss : 12.647524237632751 | valid acc : 0.86065673828125\n"
          ]
        },
        {
          "metadata": {
            "tags": null
          },
          "name": "stderr",
          "output_type": "stream",
          "text": [
            "100%|██████████| 13/13 [00:19<00:00,  1.50s/it]\n",
            "100%|██████████| 2/2 [00:00<00:00,  2.89it/s]\n"
          ]
        },
        {
          "metadata": {
            "tags": null
          },
          "name": "stdout",
          "output_type": "stream",
          "text": [
            "epoch 73 | train loss : 0.33635490330365986 | train acc : 0.8880896935096154 | valid loss : 4.286696791648865 | valid acc : 0.8740234375\n"
          ]
        },
        {
          "metadata": {
            "tags": null
          },
          "name": "stderr",
          "output_type": "stream",
          "text": [
            "100%|██████████| 13/13 [00:19<00:00,  1.50s/it]\n",
            "100%|██████████| 2/2 [00:00<00:00,  2.84it/s]\n"
          ]
        },
        {
          "metadata": {
            "tags": null
          },
          "name": "stdout",
          "output_type": "stream",
          "text": [
            "epoch 74 | train loss : 0.338588941269196 | train acc : 0.8865778996394231 | valid loss : 19.36188817024231 | valid acc : 0.8385009765625\n"
          ]
        },
        {
          "metadata": {
            "tags": null
          },
          "name": "stderr",
          "output_type": "stream",
          "text": [
            "100%|██████████| 13/13 [00:19<00:00,  1.50s/it]\n",
            "100%|██████████| 2/2 [00:00<00:00,  2.87it/s]\n"
          ]
        },
        {
          "metadata": {
            "tags": null
          },
          "name": "stdout",
          "output_type": "stream",
          "text": [
            "epoch 75 | train loss : 0.42436189491015214 | train acc : 0.8871319110576923 | valid loss : 7.16473662853241 | valid acc : 0.84307861328125\n"
          ]
        },
        {
          "metadata": {
            "tags": null
          },
          "name": "stderr",
          "output_type": "stream",
          "text": [
            "100%|██████████| 13/13 [00:19<00:00,  1.50s/it]\n",
            "100%|██████████| 2/2 [00:00<00:00,  2.83it/s]\n"
          ]
        },
        {
          "metadata": {
            "tags": null
          },
          "name": "stdout",
          "output_type": "stream",
          "text": [
            "epoch 76 | train loss : 0.34668502612755847 | train acc : 0.8885498046875 | valid loss : 3.6419107913970947 | valid acc : 0.861572265625\n"
          ]
        },
        {
          "metadata": {
            "tags": null
          },
          "name": "stderr",
          "output_type": "stream",
          "text": [
            "100%|██████████| 13/13 [00:19<00:00,  1.50s/it]\n",
            "100%|██████████| 2/2 [00:00<00:00,  2.89it/s]\n"
          ]
        },
        {
          "metadata": {
            "tags": null
          },
          "name": "stdout",
          "output_type": "stream",
          "text": [
            "epoch 77 | train loss : 0.32006923080636906 | train acc : 0.8918832632211539 | valid loss : 7.810484766960144 | valid acc : 0.86871337890625\n"
          ]
        },
        {
          "metadata": {
            "tags": null
          },
          "name": "stderr",
          "output_type": "stream",
          "text": [
            "100%|██████████| 13/13 [00:19<00:00,  1.50s/it]\n",
            "100%|██████████| 2/2 [00:00<00:00,  2.87it/s]\n"
          ]
        },
        {
          "metadata": {
            "tags": null
          },
          "name": "stdout",
          "output_type": "stream",
          "text": [
            "epoch 78 | train loss : 0.3100031648690884 | train acc : 0.8941180889423077 | valid loss : 4.533695697784424 | valid acc : 0.86248779296875\n"
          ]
        },
        {
          "metadata": {
            "tags": null
          },
          "name": "stderr",
          "output_type": "stream",
          "text": [
            "100%|██████████| 13/13 [00:19<00:00,  1.50s/it]\n",
            "100%|██████████| 2/2 [00:00<00:00,  2.86it/s]\n"
          ]
        },
        {
          "metadata": {
            "tags": null
          },
          "name": "stdout",
          "output_type": "stream",
          "text": [
            "epoch 79 | train loss : 0.35168710350990295 | train acc : 0.8914701021634616 | valid loss : 3.569315791130066 | valid acc : 0.8692626953125\n"
          ]
        },
        {
          "metadata": {
            "tags": null
          },
          "name": "stderr",
          "output_type": "stream",
          "text": [
            "100%|██████████| 13/13 [00:19<00:00,  1.50s/it]\n",
            "100%|██████████| 2/2 [00:00<00:00,  2.86it/s]\n"
          ]
        },
        {
          "metadata": {
            "tags": null
          },
          "name": "stdout",
          "output_type": "stream",
          "text": [
            "epoch 80 | train loss : 0.3430437030127415 | train acc : 0.8937143179086539 | valid loss : 8.862812995910645 | valid acc : 0.8656005859375\n"
          ]
        },
        {
          "metadata": {
            "tags": null
          },
          "name": "stderr",
          "output_type": "stream",
          "text": [
            "100%|██████████| 13/13 [00:19<00:00,  1.50s/it]\n",
            "100%|██████████| 2/2 [00:00<00:00,  2.87it/s]\n"
          ]
        },
        {
          "metadata": {
            "tags": null
          },
          "name": "stdout",
          "output_type": "stream",
          "text": [
            "epoch 81 | train loss : 0.35672252911787766 | train acc : 0.8872258112980769 | valid loss : 5.227118253707886 | valid acc : 0.85223388671875\n"
          ]
        },
        {
          "output_type": "stream",
          "name": "stderr",
          "text": [
            "100%|██████████| 13/13 [00:19<00:00,  1.50s/it]\n",
            "100%|██████████| 2/2 [00:00<00:00,  2.85it/s]\n"
          ]
        },
        {
          "output_type": "stream",
          "name": "stdout",
          "text": [
            "epoch 82 | train loss : 0.31567795775257623 | train acc : 0.8918738731971154 | valid loss : 7.663989424705505 | valid acc : 0.84454345703125\n"
          ]
        },
        {
          "output_type": "stream",
          "name": "stderr",
          "text": [
            "100%|██████████| 13/13 [00:19<00:00,  1.50s/it]\n",
            "100%|██████████| 2/2 [00:00<00:00,  2.90it/s]\n"
          ]
        },
        {
          "output_type": "stream",
          "name": "stdout",
          "text": [
            "epoch 83 | train loss : 0.37690752801986843 | train acc : 0.8884465144230769 | valid loss : 3.950034976005554 | valid acc : 0.84344482421875\n"
          ]
        },
        {
          "output_type": "stream",
          "name": "stderr",
          "text": [
            "100%|██████████| 13/13 [00:19<00:00,  1.50s/it]\n",
            "100%|██████████| 2/2 [00:00<00:00,  2.88it/s]\n"
          ]
        },
        {
          "output_type": "stream",
          "name": "stdout",
          "text": [
            "epoch 84 | train loss : 0.37100742356135297 | train acc : 0.8925311748798077 | valid loss : 30.259919822216034 | valid acc : 0.81707763671875\n"
          ]
        },
        {
          "output_type": "stream",
          "name": "stderr",
          "text": [
            "100%|██████████| 13/13 [00:19<00:00,  1.50s/it]\n",
            "100%|██████████| 2/2 [00:00<00:00,  2.86it/s]\n"
          ]
        },
        {
          "output_type": "stream",
          "name": "stdout",
          "text": [
            "epoch 85 | train loss : 0.33968232514766544 | train acc : 0.8917142427884616 | valid loss : 5.193862438201904 | valid acc : 0.87054443359375\n"
          ]
        },
        {
          "output_type": "stream",
          "name": "stderr",
          "text": [
            "100%|██████████| 13/13 [00:19<00:00,  1.50s/it]\n",
            "100%|██████████| 2/2 [00:00<00:00,  2.86it/s]\n"
          ]
        },
        {
          "output_type": "stream",
          "name": "stdout",
          "text": [
            "epoch 86 | train loss : 0.36591843687571013 | train acc : 0.8879488431490384 | valid loss : 3.7569329738616943 | valid acc : 0.88720703125\n"
          ]
        },
        {
          "output_type": "stream",
          "name": "stderr",
          "text": [
            "100%|██████████| 13/13 [00:19<00:00,  1.50s/it]\n",
            "100%|██████████| 2/2 [00:00<00:00,  2.87it/s]\n"
          ]
        },
        {
          "output_type": "stream",
          "name": "stdout",
          "text": [
            "epoch 87 | train loss : 0.3886960558593273 | train acc : 0.8904559795673077 | valid loss : 9.300474643707275 | valid acc : 0.80755615234375\n"
          ]
        },
        {
          "output_type": "stream",
          "name": "stderr",
          "text": [
            "100%|██████████| 13/13 [00:19<00:00,  1.50s/it]\n",
            "100%|██████████| 2/2 [00:00<00:00,  2.85it/s]\n"
          ]
        },
        {
          "output_type": "stream",
          "name": "stdout",
          "text": [
            "epoch 88 | train loss : 0.3686645202911817 | train acc : 0.8893010066105769 | valid loss : 3.6582645177841187 | valid acc : 0.805908203125\n"
          ]
        },
        {
          "output_type": "stream",
          "name": "stderr",
          "text": [
            "100%|██████████| 13/13 [00:19<00:00,  1.50s/it]\n",
            "100%|██████████| 2/2 [00:00<00:00,  2.85it/s]\n"
          ]
        },
        {
          "output_type": "stream",
          "name": "stdout",
          "text": [
            "epoch 89 | train loss : 0.35950270237830967 | train acc : 0.8887657752403846 | valid loss : 3.869866728782654 | valid acc : 0.85113525390625\n"
          ]
        },
        {
          "output_type": "stream",
          "name": "stderr",
          "text": [
            "100%|██████████| 13/13 [00:19<00:00,  1.50s/it]\n",
            "100%|██████████| 2/2 [00:00<00:00,  2.86it/s]\n"
          ]
        },
        {
          "output_type": "stream",
          "name": "stdout",
          "text": [
            "epoch 90 | train loss : 0.33591991433730495 | train acc : 0.8929631159855769 | valid loss : 5.110222816467285 | valid acc : 0.8553466796875\n"
          ]
        },
        {
          "output_type": "stream",
          "name": "stderr",
          "text": [
            "100%|██████████| 13/13 [00:19<00:00,  1.50s/it]\n",
            "100%|██████████| 2/2 [00:00<00:00,  2.85it/s]\n"
          ]
        },
        {
          "output_type": "stream",
          "name": "stdout",
          "text": [
            "epoch 91 | train loss : 0.3553238075513106 | train acc : 0.8928034855769231 | valid loss : 3.441913902759552 | valid acc : 0.80718994140625\n"
          ]
        },
        {
          "output_type": "stream",
          "name": "stderr",
          "text": [
            "100%|██████████| 13/13 [00:19<00:00,  1.51s/it]\n",
            "100%|██████████| 2/2 [00:00<00:00,  2.85it/s]\n"
          ]
        },
        {
          "output_type": "stream",
          "name": "stdout",
          "text": [
            "epoch 92 | train loss : 0.35694545335494554 | train acc : 0.8916297325721154 | valid loss : 7.825496554374695 | valid acc : 0.86907958984375\n"
          ]
        },
        {
          "output_type": "stream",
          "name": "stderr",
          "text": [
            "100%|██████████| 13/13 [00:19<00:00,  1.51s/it]\n",
            "100%|██████████| 2/2 [00:00<00:00,  2.85it/s]\n"
          ]
        },
        {
          "output_type": "stream",
          "name": "stdout",
          "text": [
            "epoch 93 | train loss : 0.34101978546151746 | train acc : 0.8895920973557693 | valid loss : 4.197003602981567 | valid acc : 0.86431884765625\n"
          ]
        },
        {
          "output_type": "stream",
          "name": "stderr",
          "text": [
            "100%|██████████| 13/13 [00:19<00:00,  1.50s/it]\n",
            "100%|██████████| 2/2 [00:00<00:00,  2.87it/s]\n"
          ]
        },
        {
          "output_type": "stream",
          "name": "stdout",
          "text": [
            "epoch 94 | train loss : 0.3693110541655467 | train acc : 0.8901648888221154 | valid loss : 5.041146278381348 | valid acc : 0.83905029296875\n"
          ]
        },
        {
          "output_type": "stream",
          "name": "stderr",
          "text": [
            "100%|██████████| 13/13 [00:19<00:00,  1.50s/it]\n",
            "100%|██████████| 2/2 [00:00<00:00,  2.88it/s]\n"
          ]
        },
        {
          "output_type": "stream",
          "name": "stdout",
          "text": [
            "epoch 95 | train loss : 0.3593121064970127 | train acc : 0.8875732421875 | valid loss : 3.860206663608551 | valid acc : 0.88885498046875\n"
          ]
        },
        {
          "output_type": "stream",
          "name": "stderr",
          "text": [
            "100%|██████████| 13/13 [00:19<00:00,  1.50s/it]\n",
            "100%|██████████| 2/2 [00:00<00:00,  2.83it/s]\n"
          ]
        },
        {
          "output_type": "stream",
          "name": "stdout",
          "text": [
            "epoch 96 | train loss : 0.3591209976718976 | train acc : 0.8904747596153846 | valid loss : 3.502811849117279 | valid acc : 0.8443603515625\n"
          ]
        },
        {
          "output_type": "stream",
          "name": "stderr",
          "text": [
            "100%|██████████| 13/13 [00:19<00:00,  1.50s/it]\n",
            "100%|██████████| 2/2 [00:00<00:00,  2.83it/s]\n"
          ]
        },
        {
          "output_type": "stream",
          "name": "stdout",
          "text": [
            "epoch 97 | train loss : 0.31371256938347447 | train acc : 0.8918832632211539 | valid loss : 12.468726396560669 | valid acc : 0.84417724609375\n"
          ]
        },
        {
          "output_type": "stream",
          "name": "stderr",
          "text": [
            "100%|██████████| 13/13 [00:19<00:00,  1.50s/it]\n",
            "100%|██████████| 2/2 [00:00<00:00,  2.85it/s]\n"
          ]
        },
        {
          "output_type": "stream",
          "name": "stdout",
          "text": [
            "epoch 98 | train loss : 0.32345101781762564 | train acc : 0.891357421875 | valid loss : 3.766976833343506 | valid acc : 0.8582763671875\n"
          ]
        },
        {
          "output_type": "stream",
          "name": "stderr",
          "text": [
            "100%|██████████| 13/13 [00:19<00:00,  1.50s/it]\n",
            "100%|██████████| 2/2 [00:00<00:00,  2.87it/s]"
          ]
        },
        {
          "output_type": "stream",
          "name": "stdout",
          "text": [
            "epoch 99 | train loss : 0.37331460473629147 | train acc : 0.8862116887019231 | valid loss : 7.509308695793152 | valid acc : 0.82220458984375\n"
          ]
        },
        {
          "output_type": "stream",
          "name": "stderr",
          "text": [
            "\n"
          ]
        }
      ]
    },
    {
      "cell_type": "code",
      "source": [
        "pred = trainer.predict(text[5])"
      ],
      "metadata": {
        "id": "grJQ7wVb_LeK"
      },
      "execution_count": null,
      "outputs": []
    },
    {
      "cell_type": "code",
      "source": [
        "for i in pred:\n",
        "    if i != \"Empty\":\n",
        "      for j in pred[i]:\n",
        "          print('{:<20}{:<}'.format(i,j))"
      ],
      "metadata": {
        "id": "HXFbzgACg5tq",
        "colab": {
          "base_uri": "https://localhost:8080/"
        },
        "outputId": "ac27658b-3852-462e-8a45-d246cddb1807"
      },
      "execution_count": null,
      "outputs": [
        {
          "output_type": "stream",
          "name": "stdout",
          "text": [
            "Name                Anvitha Rao\n",
            "College Name        State\n",
            "College Name        S Ramaiah\n",
            "College Name        Technology\n",
            "Degree              Masters in Computer\n",
            "Degree              University\n",
            "Degree              Bachelor of Engineering in Computer\n",
            "Degree              M\n",
            "Degree              Institute of\n",
            "Companies worked at SAP Labs\n",
            "Companies worked at SAP\n",
            "Companies worked at SAP\n",
            "Companies worked at SAP Labs\n",
            "Designation         Automation developer\n",
            "Skills              JAVA (1 year), C++ (Less than 1 year), Hadoop (Less than 1 year), HADOOP (Less than 1 year), CSS (Less than 1\n",
            "Skills              Skills: Programming Languages: C, C++, HTML/CSS, Java, Python, Javascript Technologies: IoT, MySQL, PostgreSQL, D3js, Hadoop and Spark, Gephi\n"
          ]
        }
      ]
    }
  ]
}
