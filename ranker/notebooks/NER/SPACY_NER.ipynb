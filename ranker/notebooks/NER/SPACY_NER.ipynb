{
  "nbformat": 4,
  "nbformat_minor": 0,
  "metadata": {
    "colab": {
      "name": "SPACY_NER.ipynb",
      "provenance": [],
      "collapsed_sections": []
    },
    "kernelspec": {
      "name": "python3",
      "display_name": "Python 3"
    },
    "language_info": {
      "name": "python"
    }
  },
  "cells": [
    {
      "cell_type": "code",
      "execution_count": 1,
      "metadata": {
        "colab": {
          "base_uri": "https://localhost:8080/"
        },
        "id": "NhFYyFe8v0GI",
        "outputId": "b9a87428-aea4-4dd9-db57-fa30fc1f5d31"
      },
      "outputs": [
        {
          "output_type": "stream",
          "name": "stdout",
          "text": [
            "Mounted at /content/gdrive\n"
          ]
        }
      ],
      "source": [
        "from google.colab import drive\n",
        "drive.mount('/content/gdrive')"
      ]
    },
    {
      "cell_type": "code",
      "source": [
        "import re\n",
        "import json\n",
        "import spacy\n",
        "import random\n",
        "from tqdm import tqdm"
      ],
      "metadata": {
        "id": "2J3QLnz4wJ3Q"
      },
      "execution_count": 18,
      "outputs": []
    },
    {
      "cell_type": "code",
      "source": [
        "ROOT_DIR = \"/content/gdrive/MyDrive/ResumeRanker\""
      ],
      "metadata": {
        "id": "RNbaJjJlv-dT"
      },
      "execution_count": 19,
      "outputs": []
    },
    {
      "cell_type": "code",
      "source": [
        "def extract_data_from_json(filepath):\n",
        "    text_dataset = []\n",
        "    dataset = []\n",
        "    with open(filepath, 'r') as f:\n",
        "        lines = f.readlines()\n",
        "\n",
        "    for line in tqdm(lines,desc='Extracting Data    '):\n",
        "        data = json.loads(line)\n",
        "        text = data['content'].replace(\"\\n\", \" \")\n",
        "        data_annotations = data['annotation']\n",
        "        entities = []\n",
        "        if data_annotations is not None:\n",
        "            for annotation in data_annotations:\n",
        "                point = annotation['points'][0]\n",
        "                labels = annotation['label']\n",
        "                if isinstance(labels, list):\n",
        "                    if not labels:\n",
        "                        continue\n",
        "                    label = labels[0]\n",
        "                else:\n",
        "                    label = labels\n",
        "\n",
        "                point_start = point['start']\n",
        "                point_end = point['end']\n",
        "                point_text = point['text']\n",
        "                \n",
        "                lspace = len(point_text) - len(point_text.lstrip())\n",
        "                rspace = len(point_text) - len(point_text.rstrip())\n",
        "                if lspace != 0:\n",
        "                    point_start = point_start + lspace\n",
        "                if rspace != 0:\n",
        "                    point_end = point_end - rspace\n",
        "                entities.append((point_start, point_end + 1 , label))\n",
        "        dataset.append((text, {\"entities\" : entities}))\n",
        "        text_dataset.append(text)\n",
        "\n",
        "    invalid_span_tokens = re.compile(r'\\s')\n",
        "\n",
        "    cleaned_data = []\n",
        "    for text, annotations in tqdm(dataset,desc='Processing Entities'):\n",
        "        entities = annotations['entities']\n",
        "        valid_entities = []\n",
        "        for start, end, label in entities:\n",
        "            valid_start = start\n",
        "            valid_end = end\n",
        "            while valid_start < len(text) and invalid_span_tokens.match(\n",
        "                    text[valid_start]):\n",
        "                valid_start += 1\n",
        "            while valid_end > 1 and invalid_span_tokens.match(\n",
        "                    text[valid_end - 1]):\n",
        "                valid_end -= 1\n",
        "            valid_entities.append([valid_start, valid_end, label])\n",
        "        cleaned_data.append((text, {'entities': valid_entities}))\n",
        "\n",
        "    labels = []\n",
        "    s = 0\n",
        "    for i in tqdm(range(len(cleaned_data)),desc='Creating Labels    '):\n",
        "        start = 0\n",
        "        emptyList = [\"Empty\"] * len(cleaned_data[i][0].split())\n",
        "        numberOfWords = 0\n",
        "        lenOfString = len(cleaned_data[i][0])\n",
        "        strData = cleaned_data[i][0]\n",
        "        strDictData = cleaned_data[i][1]\n",
        "        lastIndexOfSpace = strData.rfind(' ')\n",
        "        for i in range(lenOfString):\n",
        "            if (strData[i]==\" \" and strData[i+1]!=\" \"):\n",
        "                for k,v in strDictData.items():\n",
        "                    for j in range(len(v)):\n",
        "                        entList = v[len(v)-j-1]\n",
        "                        if (start>=int(entList[0]) and i<=int(entList[1])):\n",
        "                            emptyList[numberOfWords] = entList[2]\n",
        "                            break\n",
        "                        else:\n",
        "                            continue\n",
        "                start = i + 1  \n",
        "                numberOfWords += 1\n",
        "            if (i == lastIndexOfSpace):\n",
        "                for j in range(len(v)):\n",
        "                        entList = v[len(v)-j-1]\n",
        "                        if (lastIndexOfSpace>=int(entList[0]) and lenOfString<=int(entList[1])):\n",
        "                            emptyList[numberOfWords] = entList[2]\n",
        "                            numberOfWords += 1\n",
        "        labels.append(emptyList)\n",
        "        s = s + numberOfWords\n",
        "    return text_dataset, labels, cleaned_data"
      ],
      "metadata": {
        "id": "5GadGu8Yv-zs"
      },
      "execution_count": 28,
      "outputs": []
    },
    {
      "cell_type": "code",
      "source": [
        "json_file_path = \"/content/gdrive/MyDrive/ResumeRanker/Dataset/Entity Recognition in Resumes.json\"\n",
        "text, labels, spacy_data = extract_data_from_json(json_file_path)"
      ],
      "metadata": {
        "colab": {
          "base_uri": "https://localhost:8080/"
        },
        "id": "VbEqBverv-2S",
        "outputId": "7faac14e-ba38-43e0-9316-560a90c26cf8"
      },
      "execution_count": 29,
      "outputs": [
        {
          "output_type": "stream",
          "name": "stderr",
          "text": [
            "Extracting Data    : 100%|██████████| 220/220 [00:00<00:00, 7949.57it/s]\n",
            "Processing Entities: 100%|██████████| 220/220 [00:00<00:00, 28512.40it/s]\n",
            "Creating Labels    : 100%|██████████| 220/220 [00:01<00:00, 200.69it/s]\n"
          ]
        }
      ]
    },
    {
      "cell_type": "code",
      "source": [
        "spacy_data[0]"
      ],
      "metadata": {
        "colab": {
          "base_uri": "https://localhost:8080/"
        },
        "id": "OXpt2gssv-4x",
        "outputId": "da0a84eb-e64c-456f-ed34-5884989f732c"
      },
      "execution_count": 30,
      "outputs": [
        {
          "output_type": "execute_result",
          "data": {
            "text/plain": [
              "(\"Abhishek Jha Application Development Associate - Accenture  Bengaluru, Karnataka - Email me on Indeed: indeed.com/r/Abhishek-Jha/10e7a8cb732bc43a  • To work for an organization which provides me the opportunity to improve my skills and knowledge for my individual and company's growth in best possible ways.  Willing to relocate to: Bangalore, Karnataka  WORK EXPERIENCE  Application Development Associate  Accenture -  November 2017 to Present  Role: Currently working on Chat-bot. Developing Backend Oracle PeopleSoft Queries for the Bot which will be triggered based on given input. Also, Training the bot for different possible utterances (Both positive and negative), which will be given as input by the user.  EDUCATION  B.E in Information science and engineering  B.v.b college of engineering and technology -  Hubli, Karnataka  August 2013 to June 2017  12th in Mathematics  Woodbine modern school  April 2011 to March 2013  10th  Kendriya Vidyalaya  April 2001 to March 2011  SKILLS  C (Less than 1 year), Database (Less than 1 year), Database Management (Less than 1 year), Database Management System (Less than 1 year), Java (Less than 1 year)  ADDITIONAL INFORMATION  Technical Skills  https://www.indeed.com/r/Abhishek-Jha/10e7a8cb732bc43a?isid=rex-download&ikw=download-top&co=IN   • Programming language: C, C++, Java • Oracle PeopleSoft • Internet Of Things • Machine Learning • Database Management System • Computer Networks • Operating System worked on: Linux, Windows, Mac  Non - Technical Skills  • Honest and Hard-Working • Tolerant and Flexible to Different Situations • Polite and Calm • Team-Player\",\n",
              " {'entities': [[1296, 1622, 'Skills'],\n",
              "   [993, 1154, 'Skills'],\n",
              "   [939, 957, 'College Name'],\n",
              "   [883, 905, 'College Name'],\n",
              "   [856, 860, 'Graduation Year'],\n",
              "   [771, 814, 'College Name'],\n",
              "   [727, 769, 'Designation'],\n",
              "   [407, 416, 'Companies worked at'],\n",
              "   [372, 405, 'Designation'],\n",
              "   [95, 145, 'Email Address'],\n",
              "   [60, 69, 'Location'],\n",
              "   [49, 58, 'Companies worked at'],\n",
              "   [13, 46, 'Designation'],\n",
              "   [0, 12, 'Name']]})"
            ]
          },
          "metadata": {},
          "execution_count": 30
        }
      ]
    },
    {
      "cell_type": "code",
      "source": [
        "test_data = spacy_data[:5]\n",
        "training_data = spacy_data[5:]"
      ],
      "metadata": {
        "id": "4Y0XUYtoySll"
      },
      "execution_count": 31,
      "outputs": []
    },
    {
      "cell_type": "code",
      "source": [
        "nlp = spacy.blank('en') "
      ],
      "metadata": {
        "id": "9wbZMPzsv-7b"
      },
      "execution_count": 32,
      "outputs": []
    },
    {
      "cell_type": "code",
      "source": [
        "def train_model(train_data): \n",
        "    if 'ner' not in nlp.pipe_names:\n",
        "        ner = nlp.create_pipe('ner') \n",
        "        nlp.add_pipe(ner, last=True)\n",
        "\n",
        "    for _, annotation in train_data:\n",
        "        for ent in annotation['entities']:\n",
        "            ner.add_label(ent[2])\n",
        "    \n",
        "    other_pipes = [pipe for pipe in nlp.pipe_names if pipe != 'ner']\n",
        "    with nlp.disable_pipes(*other_pipes): \n",
        "        optimizer = nlp.begin_training()\n",
        "        \n",
        "        for itn in range(50):      \n",
        "            print('Starting iteration ' + str(itn))\n",
        "            random.shuffle(train_data)\n",
        "            losses = {}\n",
        "            for text, annotations in train_data:\n",
        "                try:\n",
        "                    nlp.update(\n",
        "                        [text],   \n",
        "                        [annotations],\n",
        "                        drop=0.2,      \n",
        "                        sgd=optimizer, \n",
        "                        losses=losses) \n",
        "                except Exception as e:\n",
        "                    pass"
      ],
      "metadata": {
        "id": "jXdxoEs7v-_D"
      },
      "execution_count": 33,
      "outputs": []
    },
    {
      "cell_type": "code",
      "source": [
        "train_model(training_data)"
      ],
      "metadata": {
        "colab": {
          "base_uri": "https://localhost:8080/"
        },
        "id": "pRNJaAhxv-Zw",
        "outputId": "3871fe11-02ac-4041-f271-fccc97c0d4f4"
      },
      "execution_count": 34,
      "outputs": [
        {
          "output_type": "stream",
          "name": "stdout",
          "text": [
            "Starting iteration 0\n",
            "Starting iteration 1\n",
            "Starting iteration 2\n",
            "Starting iteration 3\n",
            "Starting iteration 4\n",
            "Starting iteration 5\n",
            "Starting iteration 6\n",
            "Starting iteration 7\n",
            "Starting iteration 8\n",
            "Starting iteration 9\n",
            "Starting iteration 10\n",
            "Starting iteration 11\n",
            "Starting iteration 12\n",
            "Starting iteration 13\n",
            "Starting iteration 14\n",
            "Starting iteration 15\n",
            "Starting iteration 16\n",
            "Starting iteration 17\n",
            "Starting iteration 18\n",
            "Starting iteration 19\n",
            "Starting iteration 20\n",
            "Starting iteration 21\n",
            "Starting iteration 22\n",
            "Starting iteration 23\n",
            "Starting iteration 24\n",
            "Starting iteration 25\n",
            "Starting iteration 26\n",
            "Starting iteration 27\n",
            "Starting iteration 28\n",
            "Starting iteration 29\n",
            "Starting iteration 30\n",
            "Starting iteration 31\n",
            "Starting iteration 32\n",
            "Starting iteration 33\n",
            "Starting iteration 34\n",
            "Starting iteration 35\n",
            "Starting iteration 36\n",
            "Starting iteration 37\n",
            "Starting iteration 38\n",
            "Starting iteration 39\n",
            "Starting iteration 40\n",
            "Starting iteration 41\n",
            "Starting iteration 42\n",
            "Starting iteration 43\n",
            "Starting iteration 44\n",
            "Starting iteration 45\n",
            "Starting iteration 46\n",
            "Starting iteration 47\n",
            "Starting iteration 48\n",
            "Starting iteration 49\n"
          ]
        }
      ]
    },
    {
      "cell_type": "code",
      "source": [
        "nlp.to_disk('/content/gdrive/MyDrive/ResumeRanker/Models/SPACY_NER/NER_SPACY')"
      ],
      "metadata": {
        "id": "_sq1UwacwS0o"
      },
      "execution_count": 36,
      "outputs": []
    },
    {
      "cell_type": "code",
      "source": [
        "nlp_model = spacy.load('/content/gdrive/MyDrive/ResumeRanker/Models/SPACY_NER/NER_SPACY')"
      ],
      "metadata": {
        "id": "nviHvSKmwS3H"
      },
      "execution_count": 37,
      "outputs": []
    },
    {
      "cell_type": "code",
      "source": [
        "for i in test_data:\n",
        "    text = i[0]\n",
        "    print(\"Data :\")\n",
        "    print(text)\n",
        "    doc = nlp_model(\" \".join(text.split('\\n')))\n",
        "    for ent in doc.ents:\n",
        "        print(f'{ent.label_.upper():{20}} - {ent.text}')"
      ],
      "metadata": {
        "colab": {
          "base_uri": "https://localhost:8080/"
        },
        "id": "gRR9pEmBwS6m",
        "outputId": "a78e29a9-1dae-49da-c4ff-b61c16aa799f"
      },
      "execution_count": 38,
      "outputs": [
        {
          "output_type": "stream",
          "name": "stdout",
          "text": [
            "Data :\n",
            "Abhishek Jha Application Development Associate - Accenture  Bengaluru, Karnataka - Email me on Indeed: indeed.com/r/Abhishek-Jha/10e7a8cb732bc43a  • To work for an organization which provides me the opportunity to improve my skills and knowledge for my individual and company's growth in best possible ways.  Willing to relocate to: Bangalore, Karnataka  WORK EXPERIENCE  Application Development Associate  Accenture -  November 2017 to Present  Role: Currently working on Chat-bot. Developing Backend Oracle PeopleSoft Queries for the Bot which will be triggered based on given input. Also, Training the bot for different possible utterances (Both positive and negative), which will be given as input by the user.  EDUCATION  B.E in Information science and engineering  B.v.b college of engineering and technology -  Hubli, Karnataka  August 2013 to June 2017  12th in Mathematics  Woodbine modern school  April 2011 to March 2013  10th  Kendriya Vidyalaya  April 2001 to March 2011  SKILLS  C (Less than 1 year), Database (Less than 1 year), Database Management (Less than 1 year), Database Management System (Less than 1 year), Java (Less than 1 year)  ADDITIONAL INFORMATION  Technical Skills  https://www.indeed.com/r/Abhishek-Jha/10e7a8cb732bc43a?isid=rex-download&ikw=download-top&co=IN   • Programming language: C, C++, Java • Oracle PeopleSoft • Internet Of Things • Machine Learning • Database Management System • Computer Networks • Operating System worked on: Linux, Windows, Mac  Non - Technical Skills  • Honest and Hard-Working • Tolerant and Flexible to Different Situations • Polite and Calm • Team-Player\n",
            "NAME                 - Abhishek Jha\n",
            "DESIGNATION          - Application Development Associate\n",
            "COMPANIES WORKED AT  - Accenture\n",
            "LOCATION             - Bengaluru\n",
            "EMAIL ADDRESS        - indeed.com/r/Abhishek-Jha/10e7a8cb732bc43a\n",
            "DESIGNATION          - Application Development Associate\n",
            "COMPANIES WORKED AT  - Accenture\n",
            "DEGREE               - B.E in Information science and engineering\n",
            "COLLEGE NAME         - B.v.b college of engineering and technology\n",
            "GRADUATION YEAR      - 2013\n",
            "DEGREE               - 12th in Mathematics\n",
            "COLLEGE NAME         - Woodbine modern school\n",
            "GRADUATION YEAR      - 2013\n",
            "DEGREE               - 10th\n",
            "COLLEGE NAME         - Kendriya Vidyalaya\n",
            "SKILLS               - C (Less than 1 year), Database (Less than 1 year), Database Management (Less than 1 year), Database Management System (Less than 1 year), Java (Less than 1 year)  ADDITIONAL INFORMATION  Technical Skills  https://www.indeed.com/r/Abhishek-Jha/10e7a8cb732bc43a?isid=rex-download&ikw=download-top&co=IN   • Programming language: C, C++, Java • Oracle PeopleSoft • Internet Of Things • Machine Learning • Database Management System • Computer Networks • Operating System worked on: Linux, Windows, Mac  Non - Technical Skills  • Honest and Hard-Working • Tolerant and Flexible to Different Situations • Polite and Calm • Team-Player\n",
            "Data :\n",
            "Afreen Jamadar Active member of IIIT Committee in Third year  Sangli, Maharashtra - Email me on Indeed: indeed.com/r/Afreen-Jamadar/8baf379b705e37c6  I wish to use my knowledge, skills and conceptual understanding to create excellent team environments and work consistently achieving organization objectives believes in taking initiative and work to excellence in my work.  WORK EXPERIENCE  Active member of IIIT Committee in Third year  Cisco Networking -  Kanpur, Uttar Pradesh  organized by Techkriti IIT Kanpur and Azure Skynet. PERSONALLITY TRAITS: • Quick learning ability • hard working  EDUCATION  PG-DAC  CDAC ACTS  2017  Bachelor of Engg in Information Technology  Shivaji University Kolhapur -  Kolhapur, Maharashtra  2016  SKILLS  Database (Less than 1 year), HTML (Less than 1 year), Linux. (Less than 1 year), MICROSOFT ACCESS (Less than 1 year), MICROSOFT WINDOWS (Less than 1 year)  ADDITIONAL INFORMATION  TECHNICAL SKILLS:  • Programming Languages: C, C++, Java, .net, php. • Web Designing: HTML, XML • Operating Systems: Windows […] Windows Server 2003, Linux. • Database: MS Access, MS SQL Server 2008, Oracle 10g, MySql.  https://www.indeed.com/r/Afreen-Jamadar/8baf379b705e37c6?isid=rex-download&ikw=download-top&co=IN\n",
            "NAME                 - Afreen Jamadar\n",
            "DESIGNATION          - Active member\n",
            "DEGREE               - IIIT Committee in Third year\n",
            "EMAIL ADDRESS        - indeed.com/r/Afreen-Jamadar/8baf379b705e37c6\n",
            "DESIGNATION          - Active member\n",
            "COMPANIES WORKED AT  - Cisco Networking\n",
            "DEGREE               - Bachelor of Engg in Information Technology\n",
            "COLLEGE NAME         - Shivaji University Kolhapur\n",
            "GRADUATION YEAR      - 2016\n",
            "SKILLS               - Database (Less than 1 year), HTML (Less than 1 year), Linux. (Less than 1 year), MICROSOFT ACCESS (Less than 1 year), MICROSOFT WINDOWS (Less than 1 year)\n",
            "SKILLS               - • Programming Languages: C, C++, Java, .net, php. • Web Designing: HTML, XML • Operating Systems: Windows […] Windows Server 2003, Linux. • Database: MS Access, MS SQL Server 2008, Oracle 10g, MySql.\n",
            "Data :\n",
            "Akhil Yadav Polemaina Hyderabad, Telangana - Email me on Indeed: indeed.com/r/Akhil-Yadav-Polemaina/ f6931801c51c63b1  ● Senior System Engineer at Infosys with 3.2 years of experience in software development and Maintenance. ● Maintained data processing using mainframe technology for multiple front end applications of Walmart Retail Link platform and ensured on-time deliverables. ● Worked on automating the uses cases to reduce manual effort in solving repeating incidents using Service Now orchestration. ● Possess good analytical, logical ability and systematic approach to problem analysis, strong debugging and troubleshooting skills. ● Good exposure to Retail domain.  Willing to relocate to: hyderbad, Telangana  WORK EXPERIENCE  Senior Systems Engineer  Infosys Limited -  Hyderabad, Telangana -  January 2015 to Present  ● Working on all the Major and Minor Enhancement requests as part of Maintenance and Support activities ● Identifying and fixing all the major defects in the applications, perform root cause analysis for production issues ● Being a subject matter expert, involved in multiple Knowledge transfer and knowledge sharing sessions with the client ● Leading a peer group and taking end to end responsibilities for all the critical issues/ enhancements. ● Identifying the use cases which can be automated using Service Now Orchestration ● Creating workflows to automate various tasks which involved manual intervention ● Direct interaction with the client on various business impacting issues on a daily basis ● Setting up Weekly Status Review meetings and Code Review meetings with the client  Senior Systems Engineer  Infosys Limited -  Hyderabad, Telangana -  January 2015 to Present  Team Size # 5 Project Objective: Providing end to end Maintenance and Support activity for data processing of the most critical and important Web portal 'Retail Link' along with over 40 applications used daily by all the Suppliers and Business users of Walmart, the largest retailer in the world. Retail link is a portal which hosts 100's of applications developed across technologies for the suppliers which help them to carry on day-to-day activities right from on boarding to tracking their sales. This involves supporting  https://www.indeed.com/r/Akhil-Yadav-Polemaina/f6931801c51c63b1?isid=rex-download&ikw=download-top&co=IN https://www.indeed.com/r/Akhil-Yadav-Polemaina/f6931801c51c63b1?isid=rex-download&ikw=download-top&co=IN   various Decision Support System reports which helps the higher management to take business critical decisions.  Responsibilities: ● Working on all the Major and Minor Enhancement requests as part of Maintenance and Support activities ● Identifying and fixing all the major defects in the applications, perform root cause analysis for production issues ● Being a subject matter expert, involved in multiple Knowledge transfer and knowledge sharing sessions with the client ● Leading a peer group and taking end to end responsibilities for all the critical issues/ enhancements. ● Identifying the use cases which can be automated using Service Now Orchestration ● Creating workflows to automate various tasks which involved manual intervention ● Direct interaction with the client on various business impacting issues on a daily basis ● Setting up Weekly Status Review meetings and Code Review meetings with the client  EDUCATION  Electrical and Electronics Engineering  Anurag College of Engineering (Jntuh)  SKILLS  servicenow (1 year), Mainframe (3 years), cobol (3 years), Jcl (3 years), Teradata (3 years)  ADDITIONAL INFORMATION  Technical Skills • Domain - Retail • Technology - Mainframe (COBOL, JCL, DB2, Teradata), Service now. • Operating System - Mainframe (z/OS) • Database - DB2, SQL, Teradata. • Utilities - FILE-AID, IDCAMS, DFSORT basics, LIBRARIAN, FTP/SFTP, CA-7 basics. • Tools - Query Management Tool (QMF), SQL Assistant, Service now, Remedy.  Key Strengths: ● Effective Communication Skills and Zeal to learn. ● Flexibility and Adaptability. ● Good Leadership Qualities. ● Analytical and Problem Solving Skills.  Achievements: ● Received STAR award for working on various system improvement and automation activities ● Received multiple INSTA awards for my performance in the projects worked\n",
            "NAME                 - Akhil Yadav\n",
            "LOCATION             - Hyderabad\n",
            "EMAIL ADDRESS        - indeed.com/r/Akhil-Yadav-Polemaina/ f6931801c51c63b1\n",
            "DESIGNATION          - System Engineer\n",
            "COMPANIES WORKED AT  - Infosys\n",
            "DESIGNATION          - Senior Systems Engineer\n",
            "LOCATION             - Hyderabad\n",
            "DEGREE               - Electrical and Electronics Engineering\n",
            "COLLEGE NAME         - Anurag College of Engineering\n",
            "SKILLS               - servicenow (1 year), Mainframe (3 years), cobol (3 years), Jcl (3 years), Teradata (3 years)\n",
            "Data :\n",
            "Alok Khandai Operational Analyst (SQL DBA) Engineer - UNISYS  Bengaluru, Karnataka - Email me on Indeed: indeed.com/r/Alok-Khandai/5be849e443b8f467  ❖ Having 3.5 Years of IT experience in SQL Database Administration, System Analysis, Design, Development & Support of MS SQL Servers in Production, Development environments & Replication and Cluster Server Environments. ❖ Working Experience with relational database such as SQL. ❖ Experience in Installation, Configuration, Maintenance and Administration of SQL Server. ❖ Experience in upgrading SQL Server. ❖ Good experience with implementing DR solution, High Availability of database servers using Database mirroring and replications and Log Shipping. ❖ Experience in implementing SQL Server security and Object permissions like maintaining Database authentication modes, creation of users, configuring permissions and assigning roles to users. ❖ Experience in creating Jobs, Alerts, SQL Mail Agent ❖ Experience in performing integrity checks. Methods include configuring the database maintenance plan wizard and DBCC utilities ❖ Experience in using Performance Monitor, SQL Profiler and optimizing the queries, tracing long running queries and deadlocks. ❖ Experience in applying patches and service packs to keep the database at current patch level. ❖ Ability to manage own work and multitask to meet tight deadlines without losing sight of priorities..  Willing to relocate to: Bengaluru, Karnataka  WORK EXPERIENCE  Operational Analyst (SQL DBA) Engineer  UNISYS -  Bengaluru, Karnataka -  July 2016 to Present  ❖ Having 3.5 Years of IT experience in SQL Database Administration, System Analysis, Design, Development & Support of MS SQL Servers in Production, Development environments & Replication and Cluster Server Environments. ❖ Working Experience with relational database such as SQL. ❖ Experience in Installation, Configuration, Maintenance and Administration of SQL Server.  ❖ Experience in upgrading SQL Server. ❖ Good experience with implementing DR solution, High Availability of database servers using Database mirroring and replications and Log Shipping. ❖ Experience in implementing SQL Server security and Object permissions like maintaining Database authentication modes, creation of users, configuring permissions and assigning roles to users.  DBA Support Analyst  Microsoft Corporation -  Redmond, WA -  https://www.indeed.com/r/Alok-Khandai/5be849e443b8f467?isid=rex-download&ikw=download-top&co=IN   July 2016 to Present  Client Description: Microsoft Corporation is an American public multinational corporation headquartered in Redmond, Washington, USA that develops, manufactures, licenses, and supports a wide range of products and services predominantly related to computing through its various product divisions.  Environment: Microsoft has E2E development and production environment of more than 25000 servers and applications. We are responsible for pro-active monitoring of all the servers and their jobs using monitoring tools to reduce critical business impact by alerting respective peer teams. Microsoft Service Enterprise an ITSM tools are used for ticketing and SharePoint portal is used to store all technical and process documentation.  Roles and Responsibilities: • Responsible for Database support, troubleshooting, planning and migration. Resource planning and coordination for application migrations with project managers, application and web app teams. Project involved guidance and adherence to standardized procedures for planned data center consolidation for worldwide centers using in-house corporate and third party applications based on SQL 2000 in upgrade project to SQL 2005. • Monitoring of database size and disk space in Production, Staging & Development environments • Performed installation of SQL Enterprise 2005 64bit version on Windows 2003 servers on Enterprise systems of clustered and standalone servers in enterprise Data Centers. Patch applications. • Failover cluster testing and resolution on HP servers as well as monitoring and backup reporting setup with Microsoft Operations Manager and backup teams. • Working in Microsoft production environment which includes applications and servers. • Configured Transactional Replication and Log Shipping with SQL Server Management Studio as well as basic account management and troubleshooting with connectivity, security and firewall issues. • Handling issues related to Server Availability, Performance. • Performed Production support and on Call duties • Conducted Performance Tuning using SQL Profiler and Windows Performance Monitor. • Worked with various business groups while developing their applications, assisting in database design, installing SQL Server clients, phasing from development to QA and to Production environment.  Previous Project ❖ Project Title: Finance Support ❖ Client: Costco Wholesale Corporation (USA) ❖ Team size: 22 ❖ Role: DBA Support Analyst ❖ Environment: Window 10  (SQL DBA Analyst) Engineer  HCL Technologies -  Bengaluru, Karnataka -  November 2014 to July 2016  〓 Performed server installation and configurations for SQL Server 2005 and SQL Server 2000.    〓 Performed installation of SQL Server Service Packs 〓 Upgraded databases from SQL Server 2000 to SQL Server 2005. 〓 Scheduled Full and Transactional log backups for the user created and system databases in the production environment using the Database Maintenance Plan Wizard. 〓 Setup backup and restoration jobs for development and QA environments 〓 Created transactional replication for the reporting applications. 〓 Implemented disaster recovery solution at the remote site for the production databases using Log Shipping. 〓 Used System monitor to find the bottlenecks in CPU, Disk I/O and memory devices and improved the database server performance. 〓 Used SQL Server Profiler to monitor and record database activities of particular users and applications. 〓 Used DBCC commands to troubleshoot issues related to database consistency 〓 Worked with various business groups while developing their applications, assisting in database design, installing SQL Server clients, phasing from development to QA and to Production environment  Microsoft Corporation -  November 2014 to July 2016  Client Description:  ❖ Costco Wholesale Corporation operates an international chain of membership warehouses, mainly under the \"Costco Wholesale\" name, that carry quality, brand name merchandise at substantially lower prices than are typically found at conventional wholesale or retail sources. The warehouses are designed to help small-to-medium-sized businesses reduce costs in purchasing for resale and for everyday business use. Individuals may also purchase for their personal needs.  ❖ Responsibilities:  ➢ Performed server installation and configurations for SQL Server 2005 and SQL Server 2000. ➢ Performed installation of SQL Server Service Packs ➢ Upgraded databases from SQL Server 2000 to SQL Server 2005. ➢ Scheduled Full and Transactional log backups for the user created and system databases in the production environment using the Database Maintenance Plan Wizard. ➢ Setup backup and restoration jobs for development and QA environments ➢ Created transactional replication for the reporting applications. ➢ Implemented disaster recovery solution at the remote site for the production databases using Log Shipping. ➢ Used System monitor to find the bottlenecks in CPU, Disk I/O and memory devices and improved the database server performance. ➢ Used SQL Server Profiler to monitor and record database activities of particular users and applications. ➢ Used DBCC commands to troubleshoot issues related to database consistency ➢ Worked with various business groups while developing their applications, assisting in database design, installing SQL Server clients, phasing from development to QA and to Production environment    EDUCATION  B.Tech in Computer Science and Engineering in CSE  Indira Gandhi Institute Of Technology  2012  SKILLS  Database (3 years), SQL (3 years), Sql Dba  ADDITIONAL INFORMATION  TECHNICAL PROFICIENCY ❖ Operating Environment: […] Windows95/98/XP/NT ❖ Database Tool: SQL Management Studio (MSSQL), Business Development Studio, Visual studio 2005 ❖ Database Language: SQL, PL/SQL ❖ Ticket Tracking Tool: Service Now ❖ Reporting Tools: MS Reporting Services, SAS ❖ Languages: C, C++, PL/SQL\n",
            "NAME                 - Alok Khandai\n",
            "DESIGNATION          - Operational Analyst (SQL DBA) Engineer\n",
            "COMPANIES WORKED AT  - UNISYS  Bengaluru, Karnataka - Email me on Indeed: indeed.com/r/Alok-Khandai/5be849e443b8f467  ❖\n",
            "YEARS OF EXPERIENCE  - 3.5 Years\n",
            "DESIGNATION          - Operational Analyst (SQL DBA) Engineer\n",
            "LOCATION             - Bengaluru\n",
            "GRADUATION YEAR      - 2016\n",
            "YEARS OF EXPERIENCE  - 3.5 Years\n",
            "DESIGNATION          - DBA Support\n",
            "GRADUATION YEAR      - 2016\n",
            "GRADUATION YEAR      - 2014\n",
            "GRADUATION YEAR      - 2016\n",
            "GRADUATION YEAR      - 2014\n",
            "GRADUATION YEAR      - 2016\n",
            "DEGREE               - B.Tech in Computer Science and Engineering in CSE\n",
            "COLLEGE NAME         - Indira Gandhi Institute Of Technology\n",
            "GRADUATION YEAR      - 2012\n",
            "SKILLS               - Database (3 years), SQL (3 years), Sql Dba\n",
            "SKILLS               - C, C++, PL/SQL\n",
            "Data :\n",
            "Ananya Chavan lecturer - oracle tutorials  Mumbai, Maharashtra - Email me on Indeed: indeed.com/r/Ananya- Chavan/738779ab71971a96  Seeking a responsible job with an opportunity for professional challenges and utilize my skills up to its extreme.  WORK EXPERIENCE  lecturer  Oracle tutorials -  Mumbai, Maharashtra -  April 2016 to Present  for computer science (STD 11th and 12th) (2 years) ➢ Worked at \"Dr.Babasaheb Ambedkar College, Chembur (W) \" as a lecturer for • B.Sc. (Computer Science & Information Technology) • F.Y.J.C. (Computer Science & I.T.) • S.Y.J.C. (Computer Science & I.T.) ➢ Worked at \"LIVE\" as a Head of the IT Department and Lecturer for Web designing. ➢ Worked at \"Kohinoor College Of Hotel Management\" as visiting lecturer for SEM I. ➢ Working at \"ORACLE TUTORIALS\" as a lecturer for computer science (STD 11th and 12th)  EDUCATION  MCA  Mumbai University -  Mumbai, Maharashtra  B.Sc. in Com.Sci  Mumbai University -  Mumbai, Maharashtra  SKILLS  SEARCH ENGINE MARKETING (2 years), SEM (2 years), ACCESS (Less than 1 year), AJAX (Less than 1 year), APACHE (Less than 1 year)  ADDITIONAL INFORMATION  Technical skills: Languages: C, C++, Java (J2EE), Web Component APIS:: Jdbc, Servlet, JSP. Frameworks: Spring 4 & Struts 2 ORM Framework: Hibernate Web Development: Html5, CSS3, Java Script, Ajax &JQuery, Angular Js  https://www.indeed.com/r/Ananya-Chavan/738779ab71971a96?isid=rex-download&ikw=download-top&co=IN https://www.indeed.com/r/Ananya-Chavan/738779ab71971a96?isid=rex-download&ikw=download-top&co=IN   Application Servers: Apache Tomcat, IDE: Eclipse, Netbeans Database: Ms-Access, Mysql Operating Systems: Windows 7, 8, 10 FTP Client: Filezilla Versioning Tools: Git  Project Details:  \"Real Estate Application\" (Client: Global Realtor PVT. LTD Pune) Front-End: Java (J2EE), JDBC, Servlet, JSP, Jquery. Back end: Mysql. Duration: 6 Month (Internship) Company Name: AryanTech India Pvt. Ltd. Pune My Role: Developer as Trainee. Module: Module 4. Description: Developed as a MCA Final SEM Project for \"Global Realtors PVT.LTD, Hinjewadi, Pune.\" The Real Estate Web Application is an interactive, effective and revenue-generating website designed for the Real Estate Industry. The main objective of this application is to help the Real Estate Company to display unlimited number of property listings on the website.  \"Beauty Parlor Management System\" (B.Sc. (Com.Sci.)) Tool: VB 6.0 Language: VB Database: MS-Access Operating System: Windows XP The Beauty Parlor Management System is an easy and effective system to use. The main features of this system are to avoid manual work and keep storing all appointments of customers.  \"Web Designing Project (Reptiles.com) \" (B.Sc. (Com.Sci.)) Language: HTML and ASP Tool: Dreamweaver 8.0 Database: MS-Access Operating System: Windows XP The Reptiles.com is a simple informative site. The main features of this system are to give all information of Snakes.\n",
            "NAME                 - Ananya Chavan\n",
            "LOCATION             - Mumbai\n",
            "EMAIL ADDRESS        - indeed.com/r/Ananya- Chavan/738779ab71971a96\n",
            "DEGREE               - MCA\n",
            "COLLEGE NAME         - Mumbai University\n",
            "DEGREE               - B.Sc. in Com.\n",
            "SKILLS               - SEARCH ENGINE MARKETING (2 years), SEM (2 years), ACCESS (Less than 1 year), AJAX (Less than 1 year), APACHE (Less than 1 year)  ADDITIONAL INFORMATION  Technical skills: Languages: C, C++, Java (J2EE), Web Component APIS:: Jdbc, Servlet, JSP. Frameworks: Spring 4 & Struts 2 ORM Framework: Hibernate Web Development: Html5, CSS3, Java Script, Ajax &JQuery, Angular Js\n"
          ]
        }
      ]
    },
    {
      "cell_type": "code",
      "source": [
        ""
      ],
      "metadata": {
        "id": "9wb4xAdc2d6V"
      },
      "execution_count": null,
      "outputs": []
    }
  ]
}
